{
  "nbformat": 4,
  "nbformat_minor": 0,
  "metadata": {
    "colab": {
      "name": "Eng_to_de_marianmt_tuning.ipynb",
      "provenance": [],
      "collapsed_sections": [],
      "authorship_tag": "ABX9TyNS+BtyhqARMFNx6kWkRRvT"
    },
    "kernelspec": {
      "name": "python3",
      "display_name": "Python 3"
    },
    "language_info": {
      "name": "python"
    },
    "accelerator": "GPU",
    "widgets": {
      "application/vnd.jupyter.widget-state+json": {
        "f327dae7d32f405d8ba09b8a3094d010": {
          "model_module": "@jupyter-widgets/controls",
          "model_name": "HBoxModel",
          "state": {
            "_view_name": "HBoxView",
            "_dom_classes": [],
            "_model_name": "HBoxModel",
            "_view_module": "@jupyter-widgets/controls",
            "_model_module_version": "1.5.0",
            "_view_count": null,
            "_view_module_version": "1.5.0",
            "box_style": "",
            "layout": "IPY_MODEL_afa02f8cb87f43d9abb6c0f86dc2e9d7",
            "_model_module": "@jupyter-widgets/controls",
            "children": [
              "IPY_MODEL_32bd9f6d53c84d778494b5ff763bfd3d",
              "IPY_MODEL_323e4b588937456eacdbe1d4ccf8223f"
            ]
          }
        },
        "afa02f8cb87f43d9abb6c0f86dc2e9d7": {
          "model_module": "@jupyter-widgets/base",
          "model_name": "LayoutModel",
          "state": {
            "_view_name": "LayoutView",
            "grid_template_rows": null,
            "right": null,
            "justify_content": null,
            "_view_module": "@jupyter-widgets/base",
            "overflow": null,
            "_model_module_version": "1.2.0",
            "_view_count": null,
            "flex_flow": null,
            "width": null,
            "min_width": null,
            "border": null,
            "align_items": null,
            "bottom": null,
            "_model_module": "@jupyter-widgets/base",
            "top": null,
            "grid_column": null,
            "overflow_y": null,
            "overflow_x": null,
            "grid_auto_flow": null,
            "grid_area": null,
            "grid_template_columns": null,
            "flex": null,
            "_model_name": "LayoutModel",
            "justify_items": null,
            "grid_row": null,
            "max_height": null,
            "align_content": null,
            "visibility": null,
            "align_self": null,
            "height": null,
            "min_height": null,
            "padding": null,
            "grid_auto_rows": null,
            "grid_gap": null,
            "max_width": null,
            "order": null,
            "_view_module_version": "1.2.0",
            "grid_template_areas": null,
            "object_position": null,
            "object_fit": null,
            "grid_auto_columns": null,
            "margin": null,
            "display": null,
            "left": null
          }
        },
        "32bd9f6d53c84d778494b5ff763bfd3d": {
          "model_module": "@jupyter-widgets/controls",
          "model_name": "FloatProgressModel",
          "state": {
            "_view_name": "ProgressView",
            "style": "IPY_MODEL_10068921400448d88805108caa3ccc1b",
            "_dom_classes": [],
            "description": "Downloading: 100%",
            "_model_name": "FloatProgressModel",
            "bar_style": "success",
            "max": 768489,
            "_view_module": "@jupyter-widgets/controls",
            "_model_module_version": "1.5.0",
            "value": 768489,
            "_view_count": null,
            "_view_module_version": "1.5.0",
            "orientation": "horizontal",
            "min": 0,
            "description_tooltip": null,
            "_model_module": "@jupyter-widgets/controls",
            "layout": "IPY_MODEL_6488b0121aee4961bdc17831f73f8503"
          }
        },
        "323e4b588937456eacdbe1d4ccf8223f": {
          "model_module": "@jupyter-widgets/controls",
          "model_name": "HTMLModel",
          "state": {
            "_view_name": "HTMLView",
            "style": "IPY_MODEL_d0b8a0cfa3fc412c84b39ab15f41671e",
            "_dom_classes": [],
            "description": "",
            "_model_name": "HTMLModel",
            "placeholder": "​",
            "_view_module": "@jupyter-widgets/controls",
            "_model_module_version": "1.5.0",
            "value": " 768k/768k [00:09&lt;00:00, 78.8kB/s]",
            "_view_count": null,
            "_view_module_version": "1.5.0",
            "description_tooltip": null,
            "_model_module": "@jupyter-widgets/controls",
            "layout": "IPY_MODEL_d8873e3390774632afabee76b20cb219"
          }
        },
        "10068921400448d88805108caa3ccc1b": {
          "model_module": "@jupyter-widgets/controls",
          "model_name": "ProgressStyleModel",
          "state": {
            "_view_name": "StyleView",
            "_model_name": "ProgressStyleModel",
            "description_width": "initial",
            "_view_module": "@jupyter-widgets/base",
            "_model_module_version": "1.5.0",
            "_view_count": null,
            "_view_module_version": "1.2.0",
            "bar_color": null,
            "_model_module": "@jupyter-widgets/controls"
          }
        },
        "6488b0121aee4961bdc17831f73f8503": {
          "model_module": "@jupyter-widgets/base",
          "model_name": "LayoutModel",
          "state": {
            "_view_name": "LayoutView",
            "grid_template_rows": null,
            "right": null,
            "justify_content": null,
            "_view_module": "@jupyter-widgets/base",
            "overflow": null,
            "_model_module_version": "1.2.0",
            "_view_count": null,
            "flex_flow": null,
            "width": null,
            "min_width": null,
            "border": null,
            "align_items": null,
            "bottom": null,
            "_model_module": "@jupyter-widgets/base",
            "top": null,
            "grid_column": null,
            "overflow_y": null,
            "overflow_x": null,
            "grid_auto_flow": null,
            "grid_area": null,
            "grid_template_columns": null,
            "flex": null,
            "_model_name": "LayoutModel",
            "justify_items": null,
            "grid_row": null,
            "max_height": null,
            "align_content": null,
            "visibility": null,
            "align_self": null,
            "height": null,
            "min_height": null,
            "padding": null,
            "grid_auto_rows": null,
            "grid_gap": null,
            "max_width": null,
            "order": null,
            "_view_module_version": "1.2.0",
            "grid_template_areas": null,
            "object_position": null,
            "object_fit": null,
            "grid_auto_columns": null,
            "margin": null,
            "display": null,
            "left": null
          }
        },
        "d0b8a0cfa3fc412c84b39ab15f41671e": {
          "model_module": "@jupyter-widgets/controls",
          "model_name": "DescriptionStyleModel",
          "state": {
            "_view_name": "StyleView",
            "_model_name": "DescriptionStyleModel",
            "description_width": "",
            "_view_module": "@jupyter-widgets/base",
            "_model_module_version": "1.5.0",
            "_view_count": null,
            "_view_module_version": "1.2.0",
            "_model_module": "@jupyter-widgets/controls"
          }
        },
        "d8873e3390774632afabee76b20cb219": {
          "model_module": "@jupyter-widgets/base",
          "model_name": "LayoutModel",
          "state": {
            "_view_name": "LayoutView",
            "grid_template_rows": null,
            "right": null,
            "justify_content": null,
            "_view_module": "@jupyter-widgets/base",
            "overflow": null,
            "_model_module_version": "1.2.0",
            "_view_count": null,
            "flex_flow": null,
            "width": null,
            "min_width": null,
            "border": null,
            "align_items": null,
            "bottom": null,
            "_model_module": "@jupyter-widgets/base",
            "top": null,
            "grid_column": null,
            "overflow_y": null,
            "overflow_x": null,
            "grid_auto_flow": null,
            "grid_area": null,
            "grid_template_columns": null,
            "flex": null,
            "_model_name": "LayoutModel",
            "justify_items": null,
            "grid_row": null,
            "max_height": null,
            "align_content": null,
            "visibility": null,
            "align_self": null,
            "height": null,
            "min_height": null,
            "padding": null,
            "grid_auto_rows": null,
            "grid_gap": null,
            "max_width": null,
            "order": null,
            "_view_module_version": "1.2.0",
            "grid_template_areas": null,
            "object_position": null,
            "object_fit": null,
            "grid_auto_columns": null,
            "margin": null,
            "display": null,
            "left": null
          }
        },
        "135abae329da4fda9ba0afeb3c34a5ec": {
          "model_module": "@jupyter-widgets/controls",
          "model_name": "HBoxModel",
          "state": {
            "_view_name": "HBoxView",
            "_dom_classes": [],
            "_model_name": "HBoxModel",
            "_view_module": "@jupyter-widgets/controls",
            "_model_module_version": "1.5.0",
            "_view_count": null,
            "_view_module_version": "1.5.0",
            "box_style": "",
            "layout": "IPY_MODEL_505e99397a04447b9ad955c69fd93239",
            "_model_module": "@jupyter-widgets/controls",
            "children": [
              "IPY_MODEL_4ff5a9f95a704bc2ab058b761fb8c959",
              "IPY_MODEL_970cab93dc7f416fad28d963ffb145ec"
            ]
          }
        },
        "505e99397a04447b9ad955c69fd93239": {
          "model_module": "@jupyter-widgets/base",
          "model_name": "LayoutModel",
          "state": {
            "_view_name": "LayoutView",
            "grid_template_rows": null,
            "right": null,
            "justify_content": null,
            "_view_module": "@jupyter-widgets/base",
            "overflow": null,
            "_model_module_version": "1.2.0",
            "_view_count": null,
            "flex_flow": null,
            "width": null,
            "min_width": null,
            "border": null,
            "align_items": null,
            "bottom": null,
            "_model_module": "@jupyter-widgets/base",
            "top": null,
            "grid_column": null,
            "overflow_y": null,
            "overflow_x": null,
            "grid_auto_flow": null,
            "grid_area": null,
            "grid_template_columns": null,
            "flex": null,
            "_model_name": "LayoutModel",
            "justify_items": null,
            "grid_row": null,
            "max_height": null,
            "align_content": null,
            "visibility": null,
            "align_self": null,
            "height": null,
            "min_height": null,
            "padding": null,
            "grid_auto_rows": null,
            "grid_gap": null,
            "max_width": null,
            "order": null,
            "_view_module_version": "1.2.0",
            "grid_template_areas": null,
            "object_position": null,
            "object_fit": null,
            "grid_auto_columns": null,
            "margin": null,
            "display": null,
            "left": null
          }
        },
        "4ff5a9f95a704bc2ab058b761fb8c959": {
          "model_module": "@jupyter-widgets/controls",
          "model_name": "FloatProgressModel",
          "state": {
            "_view_name": "ProgressView",
            "style": "IPY_MODEL_f1291c51806943faa7c7892f3745a1cb",
            "_dom_classes": [],
            "description": "Downloading: 100%",
            "_model_name": "FloatProgressModel",
            "bar_style": "success",
            "max": 796845,
            "_view_module": "@jupyter-widgets/controls",
            "_model_module_version": "1.5.0",
            "value": 796845,
            "_view_count": null,
            "_view_module_version": "1.5.0",
            "orientation": "horizontal",
            "min": 0,
            "description_tooltip": null,
            "_model_module": "@jupyter-widgets/controls",
            "layout": "IPY_MODEL_b455315313de4f1cb993638775a7822c"
          }
        },
        "970cab93dc7f416fad28d963ffb145ec": {
          "model_module": "@jupyter-widgets/controls",
          "model_name": "HTMLModel",
          "state": {
            "_view_name": "HTMLView",
            "style": "IPY_MODEL_abd5ea9c1e13423c96dce74fc56e421e",
            "_dom_classes": [],
            "description": "",
            "_model_name": "HTMLModel",
            "placeholder": "​",
            "_view_module": "@jupyter-widgets/controls",
            "_model_module_version": "1.5.0",
            "value": " 797k/797k [00:00&lt;00:00, 5.28MB/s]",
            "_view_count": null,
            "_view_module_version": "1.5.0",
            "description_tooltip": null,
            "_model_module": "@jupyter-widgets/controls",
            "layout": "IPY_MODEL_1040ec62900143c69b437d2b05d71395"
          }
        },
        "f1291c51806943faa7c7892f3745a1cb": {
          "model_module": "@jupyter-widgets/controls",
          "model_name": "ProgressStyleModel",
          "state": {
            "_view_name": "StyleView",
            "_model_name": "ProgressStyleModel",
            "description_width": "initial",
            "_view_module": "@jupyter-widgets/base",
            "_model_module_version": "1.5.0",
            "_view_count": null,
            "_view_module_version": "1.2.0",
            "bar_color": null,
            "_model_module": "@jupyter-widgets/controls"
          }
        },
        "b455315313de4f1cb993638775a7822c": {
          "model_module": "@jupyter-widgets/base",
          "model_name": "LayoutModel",
          "state": {
            "_view_name": "LayoutView",
            "grid_template_rows": null,
            "right": null,
            "justify_content": null,
            "_view_module": "@jupyter-widgets/base",
            "overflow": null,
            "_model_module_version": "1.2.0",
            "_view_count": null,
            "flex_flow": null,
            "width": null,
            "min_width": null,
            "border": null,
            "align_items": null,
            "bottom": null,
            "_model_module": "@jupyter-widgets/base",
            "top": null,
            "grid_column": null,
            "overflow_y": null,
            "overflow_x": null,
            "grid_auto_flow": null,
            "grid_area": null,
            "grid_template_columns": null,
            "flex": null,
            "_model_name": "LayoutModel",
            "justify_items": null,
            "grid_row": null,
            "max_height": null,
            "align_content": null,
            "visibility": null,
            "align_self": null,
            "height": null,
            "min_height": null,
            "padding": null,
            "grid_auto_rows": null,
            "grid_gap": null,
            "max_width": null,
            "order": null,
            "_view_module_version": "1.2.0",
            "grid_template_areas": null,
            "object_position": null,
            "object_fit": null,
            "grid_auto_columns": null,
            "margin": null,
            "display": null,
            "left": null
          }
        },
        "abd5ea9c1e13423c96dce74fc56e421e": {
          "model_module": "@jupyter-widgets/controls",
          "model_name": "DescriptionStyleModel",
          "state": {
            "_view_name": "StyleView",
            "_model_name": "DescriptionStyleModel",
            "description_width": "",
            "_view_module": "@jupyter-widgets/base",
            "_model_module_version": "1.5.0",
            "_view_count": null,
            "_view_module_version": "1.2.0",
            "_model_module": "@jupyter-widgets/controls"
          }
        },
        "1040ec62900143c69b437d2b05d71395": {
          "model_module": "@jupyter-widgets/base",
          "model_name": "LayoutModel",
          "state": {
            "_view_name": "LayoutView",
            "grid_template_rows": null,
            "right": null,
            "justify_content": null,
            "_view_module": "@jupyter-widgets/base",
            "overflow": null,
            "_model_module_version": "1.2.0",
            "_view_count": null,
            "flex_flow": null,
            "width": null,
            "min_width": null,
            "border": null,
            "align_items": null,
            "bottom": null,
            "_model_module": "@jupyter-widgets/base",
            "top": null,
            "grid_column": null,
            "overflow_y": null,
            "overflow_x": null,
            "grid_auto_flow": null,
            "grid_area": null,
            "grid_template_columns": null,
            "flex": null,
            "_model_name": "LayoutModel",
            "justify_items": null,
            "grid_row": null,
            "max_height": null,
            "align_content": null,
            "visibility": null,
            "align_self": null,
            "height": null,
            "min_height": null,
            "padding": null,
            "grid_auto_rows": null,
            "grid_gap": null,
            "max_width": null,
            "order": null,
            "_view_module_version": "1.2.0",
            "grid_template_areas": null,
            "object_position": null,
            "object_fit": null,
            "grid_auto_columns": null,
            "margin": null,
            "display": null,
            "left": null
          }
        },
        "966648be08e448bea84d6b6ddb92b707": {
          "model_module": "@jupyter-widgets/controls",
          "model_name": "HBoxModel",
          "state": {
            "_view_name": "HBoxView",
            "_dom_classes": [],
            "_model_name": "HBoxModel",
            "_view_module": "@jupyter-widgets/controls",
            "_model_module_version": "1.5.0",
            "_view_count": null,
            "_view_module_version": "1.5.0",
            "box_style": "",
            "layout": "IPY_MODEL_a24c86fb817641469bf961929cf37914",
            "_model_module": "@jupyter-widgets/controls",
            "children": [
              "IPY_MODEL_319afba1747b4e47b9a51f3922dd2248",
              "IPY_MODEL_ec291acdbd404382b74ddebf89312781"
            ]
          }
        },
        "a24c86fb817641469bf961929cf37914": {
          "model_module": "@jupyter-widgets/base",
          "model_name": "LayoutModel",
          "state": {
            "_view_name": "LayoutView",
            "grid_template_rows": null,
            "right": null,
            "justify_content": null,
            "_view_module": "@jupyter-widgets/base",
            "overflow": null,
            "_model_module_version": "1.2.0",
            "_view_count": null,
            "flex_flow": null,
            "width": null,
            "min_width": null,
            "border": null,
            "align_items": null,
            "bottom": null,
            "_model_module": "@jupyter-widgets/base",
            "top": null,
            "grid_column": null,
            "overflow_y": null,
            "overflow_x": null,
            "grid_auto_flow": null,
            "grid_area": null,
            "grid_template_columns": null,
            "flex": null,
            "_model_name": "LayoutModel",
            "justify_items": null,
            "grid_row": null,
            "max_height": null,
            "align_content": null,
            "visibility": null,
            "align_self": null,
            "height": null,
            "min_height": null,
            "padding": null,
            "grid_auto_rows": null,
            "grid_gap": null,
            "max_width": null,
            "order": null,
            "_view_module_version": "1.2.0",
            "grid_template_areas": null,
            "object_position": null,
            "object_fit": null,
            "grid_auto_columns": null,
            "margin": null,
            "display": null,
            "left": null
          }
        },
        "319afba1747b4e47b9a51f3922dd2248": {
          "model_module": "@jupyter-widgets/controls",
          "model_name": "FloatProgressModel",
          "state": {
            "_view_name": "ProgressView",
            "style": "IPY_MODEL_95bd532d84064b59b3ee72e8ea247cd3",
            "_dom_classes": [],
            "description": "Downloading: 100%",
            "_model_name": "FloatProgressModel",
            "bar_style": "success",
            "max": 1273232,
            "_view_module": "@jupyter-widgets/controls",
            "_model_module_version": "1.5.0",
            "value": 1273232,
            "_view_count": null,
            "_view_module_version": "1.5.0",
            "orientation": "horizontal",
            "min": 0,
            "description_tooltip": null,
            "_model_module": "@jupyter-widgets/controls",
            "layout": "IPY_MODEL_66e449138cdf44fbb1b76d9a30a600dc"
          }
        },
        "ec291acdbd404382b74ddebf89312781": {
          "model_module": "@jupyter-widgets/controls",
          "model_name": "HTMLModel",
          "state": {
            "_view_name": "HTMLView",
            "style": "IPY_MODEL_563c91bd2b964fc4ac4d486754e8cff8",
            "_dom_classes": [],
            "description": "",
            "_model_name": "HTMLModel",
            "placeholder": "​",
            "_view_module": "@jupyter-widgets/controls",
            "_model_module_version": "1.5.0",
            "value": " 1.27M/1.27M [00:09&lt;00:00, 134kB/s]",
            "_view_count": null,
            "_view_module_version": "1.5.0",
            "description_tooltip": null,
            "_model_module": "@jupyter-widgets/controls",
            "layout": "IPY_MODEL_a3696dc1ffdb4099beed50cf651c4394"
          }
        },
        "95bd532d84064b59b3ee72e8ea247cd3": {
          "model_module": "@jupyter-widgets/controls",
          "model_name": "ProgressStyleModel",
          "state": {
            "_view_name": "StyleView",
            "_model_name": "ProgressStyleModel",
            "description_width": "initial",
            "_view_module": "@jupyter-widgets/base",
            "_model_module_version": "1.5.0",
            "_view_count": null,
            "_view_module_version": "1.2.0",
            "bar_color": null,
            "_model_module": "@jupyter-widgets/controls"
          }
        },
        "66e449138cdf44fbb1b76d9a30a600dc": {
          "model_module": "@jupyter-widgets/base",
          "model_name": "LayoutModel",
          "state": {
            "_view_name": "LayoutView",
            "grid_template_rows": null,
            "right": null,
            "justify_content": null,
            "_view_module": "@jupyter-widgets/base",
            "overflow": null,
            "_model_module_version": "1.2.0",
            "_view_count": null,
            "flex_flow": null,
            "width": null,
            "min_width": null,
            "border": null,
            "align_items": null,
            "bottom": null,
            "_model_module": "@jupyter-widgets/base",
            "top": null,
            "grid_column": null,
            "overflow_y": null,
            "overflow_x": null,
            "grid_auto_flow": null,
            "grid_area": null,
            "grid_template_columns": null,
            "flex": null,
            "_model_name": "LayoutModel",
            "justify_items": null,
            "grid_row": null,
            "max_height": null,
            "align_content": null,
            "visibility": null,
            "align_self": null,
            "height": null,
            "min_height": null,
            "padding": null,
            "grid_auto_rows": null,
            "grid_gap": null,
            "max_width": null,
            "order": null,
            "_view_module_version": "1.2.0",
            "grid_template_areas": null,
            "object_position": null,
            "object_fit": null,
            "grid_auto_columns": null,
            "margin": null,
            "display": null,
            "left": null
          }
        },
        "563c91bd2b964fc4ac4d486754e8cff8": {
          "model_module": "@jupyter-widgets/controls",
          "model_name": "DescriptionStyleModel",
          "state": {
            "_view_name": "StyleView",
            "_model_name": "DescriptionStyleModel",
            "description_width": "",
            "_view_module": "@jupyter-widgets/base",
            "_model_module_version": "1.5.0",
            "_view_count": null,
            "_view_module_version": "1.2.0",
            "_model_module": "@jupyter-widgets/controls"
          }
        },
        "a3696dc1ffdb4099beed50cf651c4394": {
          "model_module": "@jupyter-widgets/base",
          "model_name": "LayoutModel",
          "state": {
            "_view_name": "LayoutView",
            "grid_template_rows": null,
            "right": null,
            "justify_content": null,
            "_view_module": "@jupyter-widgets/base",
            "overflow": null,
            "_model_module_version": "1.2.0",
            "_view_count": null,
            "flex_flow": null,
            "width": null,
            "min_width": null,
            "border": null,
            "align_items": null,
            "bottom": null,
            "_model_module": "@jupyter-widgets/base",
            "top": null,
            "grid_column": null,
            "overflow_y": null,
            "overflow_x": null,
            "grid_auto_flow": null,
            "grid_area": null,
            "grid_template_columns": null,
            "flex": null,
            "_model_name": "LayoutModel",
            "justify_items": null,
            "grid_row": null,
            "max_height": null,
            "align_content": null,
            "visibility": null,
            "align_self": null,
            "height": null,
            "min_height": null,
            "padding": null,
            "grid_auto_rows": null,
            "grid_gap": null,
            "max_width": null,
            "order": null,
            "_view_module_version": "1.2.0",
            "grid_template_areas": null,
            "object_position": null,
            "object_fit": null,
            "grid_auto_columns": null,
            "margin": null,
            "display": null,
            "left": null
          }
        },
        "0915ea8c2e004fe08d6f1ebfeeae62b9": {
          "model_module": "@jupyter-widgets/controls",
          "model_name": "HBoxModel",
          "state": {
            "_view_name": "HBoxView",
            "_dom_classes": [],
            "_model_name": "HBoxModel",
            "_view_module": "@jupyter-widgets/controls",
            "_model_module_version": "1.5.0",
            "_view_count": null,
            "_view_module_version": "1.5.0",
            "box_style": "",
            "layout": "IPY_MODEL_b409ffa1fa10418c967afe936624b306",
            "_model_module": "@jupyter-widgets/controls",
            "children": [
              "IPY_MODEL_6c8777b2e8404f4388bc8f78c0b1e764",
              "IPY_MODEL_2f2cae00dc9242c992a209ad5e6e10d4"
            ]
          }
        },
        "b409ffa1fa10418c967afe936624b306": {
          "model_module": "@jupyter-widgets/base",
          "model_name": "LayoutModel",
          "state": {
            "_view_name": "LayoutView",
            "grid_template_rows": null,
            "right": null,
            "justify_content": null,
            "_view_module": "@jupyter-widgets/base",
            "overflow": null,
            "_model_module_version": "1.2.0",
            "_view_count": null,
            "flex_flow": null,
            "width": null,
            "min_width": null,
            "border": null,
            "align_items": null,
            "bottom": null,
            "_model_module": "@jupyter-widgets/base",
            "top": null,
            "grid_column": null,
            "overflow_y": null,
            "overflow_x": null,
            "grid_auto_flow": null,
            "grid_area": null,
            "grid_template_columns": null,
            "flex": null,
            "_model_name": "LayoutModel",
            "justify_items": null,
            "grid_row": null,
            "max_height": null,
            "align_content": null,
            "visibility": null,
            "align_self": null,
            "height": null,
            "min_height": null,
            "padding": null,
            "grid_auto_rows": null,
            "grid_gap": null,
            "max_width": null,
            "order": null,
            "_view_module_version": "1.2.0",
            "grid_template_areas": null,
            "object_position": null,
            "object_fit": null,
            "grid_auto_columns": null,
            "margin": null,
            "display": null,
            "left": null
          }
        },
        "6c8777b2e8404f4388bc8f78c0b1e764": {
          "model_module": "@jupyter-widgets/controls",
          "model_name": "FloatProgressModel",
          "state": {
            "_view_name": "ProgressView",
            "style": "IPY_MODEL_27e291abd0db4a6c8ce62a5dc548b2c9",
            "_dom_classes": [],
            "description": "Downloading: 100%",
            "_model_name": "FloatProgressModel",
            "bar_style": "success",
            "max": 42,
            "_view_module": "@jupyter-widgets/controls",
            "_model_module_version": "1.5.0",
            "value": 42,
            "_view_count": null,
            "_view_module_version": "1.5.0",
            "orientation": "horizontal",
            "min": 0,
            "description_tooltip": null,
            "_model_module": "@jupyter-widgets/controls",
            "layout": "IPY_MODEL_76c5b0c1c4c2476ebcfcd3a095e2d6ea"
          }
        },
        "2f2cae00dc9242c992a209ad5e6e10d4": {
          "model_module": "@jupyter-widgets/controls",
          "model_name": "HTMLModel",
          "state": {
            "_view_name": "HTMLView",
            "style": "IPY_MODEL_35b0376702b64a1397b0c0d7f739267b",
            "_dom_classes": [],
            "description": "",
            "_model_name": "HTMLModel",
            "placeholder": "​",
            "_view_module": "@jupyter-widgets/controls",
            "_model_module_version": "1.5.0",
            "value": " 42.0/42.0 [00:00&lt;00:00, 99.2B/s]",
            "_view_count": null,
            "_view_module_version": "1.5.0",
            "description_tooltip": null,
            "_model_module": "@jupyter-widgets/controls",
            "layout": "IPY_MODEL_53d5562cf3d24eb8877b7cd76d001800"
          }
        },
        "27e291abd0db4a6c8ce62a5dc548b2c9": {
          "model_module": "@jupyter-widgets/controls",
          "model_name": "ProgressStyleModel",
          "state": {
            "_view_name": "StyleView",
            "_model_name": "ProgressStyleModel",
            "description_width": "initial",
            "_view_module": "@jupyter-widgets/base",
            "_model_module_version": "1.5.0",
            "_view_count": null,
            "_view_module_version": "1.2.0",
            "bar_color": null,
            "_model_module": "@jupyter-widgets/controls"
          }
        },
        "76c5b0c1c4c2476ebcfcd3a095e2d6ea": {
          "model_module": "@jupyter-widgets/base",
          "model_name": "LayoutModel",
          "state": {
            "_view_name": "LayoutView",
            "grid_template_rows": null,
            "right": null,
            "justify_content": null,
            "_view_module": "@jupyter-widgets/base",
            "overflow": null,
            "_model_module_version": "1.2.0",
            "_view_count": null,
            "flex_flow": null,
            "width": null,
            "min_width": null,
            "border": null,
            "align_items": null,
            "bottom": null,
            "_model_module": "@jupyter-widgets/base",
            "top": null,
            "grid_column": null,
            "overflow_y": null,
            "overflow_x": null,
            "grid_auto_flow": null,
            "grid_area": null,
            "grid_template_columns": null,
            "flex": null,
            "_model_name": "LayoutModel",
            "justify_items": null,
            "grid_row": null,
            "max_height": null,
            "align_content": null,
            "visibility": null,
            "align_self": null,
            "height": null,
            "min_height": null,
            "padding": null,
            "grid_auto_rows": null,
            "grid_gap": null,
            "max_width": null,
            "order": null,
            "_view_module_version": "1.2.0",
            "grid_template_areas": null,
            "object_position": null,
            "object_fit": null,
            "grid_auto_columns": null,
            "margin": null,
            "display": null,
            "left": null
          }
        },
        "35b0376702b64a1397b0c0d7f739267b": {
          "model_module": "@jupyter-widgets/controls",
          "model_name": "DescriptionStyleModel",
          "state": {
            "_view_name": "StyleView",
            "_model_name": "DescriptionStyleModel",
            "description_width": "",
            "_view_module": "@jupyter-widgets/base",
            "_model_module_version": "1.5.0",
            "_view_count": null,
            "_view_module_version": "1.2.0",
            "_model_module": "@jupyter-widgets/controls"
          }
        },
        "53d5562cf3d24eb8877b7cd76d001800": {
          "model_module": "@jupyter-widgets/base",
          "model_name": "LayoutModel",
          "state": {
            "_view_name": "LayoutView",
            "grid_template_rows": null,
            "right": null,
            "justify_content": null,
            "_view_module": "@jupyter-widgets/base",
            "overflow": null,
            "_model_module_version": "1.2.0",
            "_view_count": null,
            "flex_flow": null,
            "width": null,
            "min_width": null,
            "border": null,
            "align_items": null,
            "bottom": null,
            "_model_module": "@jupyter-widgets/base",
            "top": null,
            "grid_column": null,
            "overflow_y": null,
            "overflow_x": null,
            "grid_auto_flow": null,
            "grid_area": null,
            "grid_template_columns": null,
            "flex": null,
            "_model_name": "LayoutModel",
            "justify_items": null,
            "grid_row": null,
            "max_height": null,
            "align_content": null,
            "visibility": null,
            "align_self": null,
            "height": null,
            "min_height": null,
            "padding": null,
            "grid_auto_rows": null,
            "grid_gap": null,
            "max_width": null,
            "order": null,
            "_view_module_version": "1.2.0",
            "grid_template_areas": null,
            "object_position": null,
            "object_fit": null,
            "grid_auto_columns": null,
            "margin": null,
            "display": null,
            "left": null
          }
        },
        "9c2fc55c96f947a9867092975dcfd6c7": {
          "model_module": "@jupyter-widgets/controls",
          "model_name": "HBoxModel",
          "state": {
            "_view_name": "HBoxView",
            "_dom_classes": [],
            "_model_name": "HBoxModel",
            "_view_module": "@jupyter-widgets/controls",
            "_model_module_version": "1.5.0",
            "_view_count": null,
            "_view_module_version": "1.5.0",
            "box_style": "",
            "layout": "IPY_MODEL_24a8e5cd3b544ac19df0f05c5e6f9adb",
            "_model_module": "@jupyter-widgets/controls",
            "children": [
              "IPY_MODEL_91dd74f755bf4897a31e2402bbced91b",
              "IPY_MODEL_2f4c1e1f8a2c406db1164f592f954934"
            ]
          }
        },
        "24a8e5cd3b544ac19df0f05c5e6f9adb": {
          "model_module": "@jupyter-widgets/base",
          "model_name": "LayoutModel",
          "state": {
            "_view_name": "LayoutView",
            "grid_template_rows": null,
            "right": null,
            "justify_content": null,
            "_view_module": "@jupyter-widgets/base",
            "overflow": null,
            "_model_module_version": "1.2.0",
            "_view_count": null,
            "flex_flow": null,
            "width": null,
            "min_width": null,
            "border": null,
            "align_items": null,
            "bottom": null,
            "_model_module": "@jupyter-widgets/base",
            "top": null,
            "grid_column": null,
            "overflow_y": null,
            "overflow_x": null,
            "grid_auto_flow": null,
            "grid_area": null,
            "grid_template_columns": null,
            "flex": null,
            "_model_name": "LayoutModel",
            "justify_items": null,
            "grid_row": null,
            "max_height": null,
            "align_content": null,
            "visibility": null,
            "align_self": null,
            "height": null,
            "min_height": null,
            "padding": null,
            "grid_auto_rows": null,
            "grid_gap": null,
            "max_width": null,
            "order": null,
            "_view_module_version": "1.2.0",
            "grid_template_areas": null,
            "object_position": null,
            "object_fit": null,
            "grid_auto_columns": null,
            "margin": null,
            "display": null,
            "left": null
          }
        },
        "91dd74f755bf4897a31e2402bbced91b": {
          "model_module": "@jupyter-widgets/controls",
          "model_name": "FloatProgressModel",
          "state": {
            "_view_name": "ProgressView",
            "style": "IPY_MODEL_8bdc0e3c83b640da90c8e10aef7b1ec6",
            "_dom_classes": [],
            "description": "Downloading: 100%",
            "_model_name": "FloatProgressModel",
            "bar_style": "success",
            "max": 1335,
            "_view_module": "@jupyter-widgets/controls",
            "_model_module_version": "1.5.0",
            "value": 1335,
            "_view_count": null,
            "_view_module_version": "1.5.0",
            "orientation": "horizontal",
            "min": 0,
            "description_tooltip": null,
            "_model_module": "@jupyter-widgets/controls",
            "layout": "IPY_MODEL_b07579fe4913480384d05ca729471b5a"
          }
        },
        "2f4c1e1f8a2c406db1164f592f954934": {
          "model_module": "@jupyter-widgets/controls",
          "model_name": "HTMLModel",
          "state": {
            "_view_name": "HTMLView",
            "style": "IPY_MODEL_dde642b58a9443a9b7aa9f454b1a64db",
            "_dom_classes": [],
            "description": "",
            "_model_name": "HTMLModel",
            "placeholder": "​",
            "_view_module": "@jupyter-widgets/controls",
            "_model_module_version": "1.5.0",
            "value": " 1.33k/1.33k [00:00&lt;00:00, 17.1kB/s]",
            "_view_count": null,
            "_view_module_version": "1.5.0",
            "description_tooltip": null,
            "_model_module": "@jupyter-widgets/controls",
            "layout": "IPY_MODEL_567ee8af60bd4e2e980ca034137fa5e4"
          }
        },
        "8bdc0e3c83b640da90c8e10aef7b1ec6": {
          "model_module": "@jupyter-widgets/controls",
          "model_name": "ProgressStyleModel",
          "state": {
            "_view_name": "StyleView",
            "_model_name": "ProgressStyleModel",
            "description_width": "initial",
            "_view_module": "@jupyter-widgets/base",
            "_model_module_version": "1.5.0",
            "_view_count": null,
            "_view_module_version": "1.2.0",
            "bar_color": null,
            "_model_module": "@jupyter-widgets/controls"
          }
        },
        "b07579fe4913480384d05ca729471b5a": {
          "model_module": "@jupyter-widgets/base",
          "model_name": "LayoutModel",
          "state": {
            "_view_name": "LayoutView",
            "grid_template_rows": null,
            "right": null,
            "justify_content": null,
            "_view_module": "@jupyter-widgets/base",
            "overflow": null,
            "_model_module_version": "1.2.0",
            "_view_count": null,
            "flex_flow": null,
            "width": null,
            "min_width": null,
            "border": null,
            "align_items": null,
            "bottom": null,
            "_model_module": "@jupyter-widgets/base",
            "top": null,
            "grid_column": null,
            "overflow_y": null,
            "overflow_x": null,
            "grid_auto_flow": null,
            "grid_area": null,
            "grid_template_columns": null,
            "flex": null,
            "_model_name": "LayoutModel",
            "justify_items": null,
            "grid_row": null,
            "max_height": null,
            "align_content": null,
            "visibility": null,
            "align_self": null,
            "height": null,
            "min_height": null,
            "padding": null,
            "grid_auto_rows": null,
            "grid_gap": null,
            "max_width": null,
            "order": null,
            "_view_module_version": "1.2.0",
            "grid_template_areas": null,
            "object_position": null,
            "object_fit": null,
            "grid_auto_columns": null,
            "margin": null,
            "display": null,
            "left": null
          }
        },
        "dde642b58a9443a9b7aa9f454b1a64db": {
          "model_module": "@jupyter-widgets/controls",
          "model_name": "DescriptionStyleModel",
          "state": {
            "_view_name": "StyleView",
            "_model_name": "DescriptionStyleModel",
            "description_width": "",
            "_view_module": "@jupyter-widgets/base",
            "_model_module_version": "1.5.0",
            "_view_count": null,
            "_view_module_version": "1.2.0",
            "_model_module": "@jupyter-widgets/controls"
          }
        },
        "567ee8af60bd4e2e980ca034137fa5e4": {
          "model_module": "@jupyter-widgets/base",
          "model_name": "LayoutModel",
          "state": {
            "_view_name": "LayoutView",
            "grid_template_rows": null,
            "right": null,
            "justify_content": null,
            "_view_module": "@jupyter-widgets/base",
            "overflow": null,
            "_model_module_version": "1.2.0",
            "_view_count": null,
            "flex_flow": null,
            "width": null,
            "min_width": null,
            "border": null,
            "align_items": null,
            "bottom": null,
            "_model_module": "@jupyter-widgets/base",
            "top": null,
            "grid_column": null,
            "overflow_y": null,
            "overflow_x": null,
            "grid_auto_flow": null,
            "grid_area": null,
            "grid_template_columns": null,
            "flex": null,
            "_model_name": "LayoutModel",
            "justify_items": null,
            "grid_row": null,
            "max_height": null,
            "align_content": null,
            "visibility": null,
            "align_self": null,
            "height": null,
            "min_height": null,
            "padding": null,
            "grid_auto_rows": null,
            "grid_gap": null,
            "max_width": null,
            "order": null,
            "_view_module_version": "1.2.0",
            "grid_template_areas": null,
            "object_position": null,
            "object_fit": null,
            "grid_auto_columns": null,
            "margin": null,
            "display": null,
            "left": null
          }
        },
        "5213de0cb0b64e04b2cc5561e54b5dfb": {
          "model_module": "@jupyter-widgets/controls",
          "model_name": "HBoxModel",
          "state": {
            "_view_name": "HBoxView",
            "_dom_classes": [],
            "_model_name": "HBoxModel",
            "_view_module": "@jupyter-widgets/controls",
            "_model_module_version": "1.5.0",
            "_view_count": null,
            "_view_module_version": "1.5.0",
            "box_style": "",
            "layout": "IPY_MODEL_0043b2dd65e5458dbde6bae078f14117",
            "_model_module": "@jupyter-widgets/controls",
            "children": [
              "IPY_MODEL_ed1e86065fcd4d86b0e9fcb87c4b4c7d",
              "IPY_MODEL_01a51829bbf74e39abbb909a5cfc33c8"
            ]
          }
        },
        "0043b2dd65e5458dbde6bae078f14117": {
          "model_module": "@jupyter-widgets/base",
          "model_name": "LayoutModel",
          "state": {
            "_view_name": "LayoutView",
            "grid_template_rows": null,
            "right": null,
            "justify_content": null,
            "_view_module": "@jupyter-widgets/base",
            "overflow": null,
            "_model_module_version": "1.2.0",
            "_view_count": null,
            "flex_flow": null,
            "width": null,
            "min_width": null,
            "border": null,
            "align_items": null,
            "bottom": null,
            "_model_module": "@jupyter-widgets/base",
            "top": null,
            "grid_column": null,
            "overflow_y": null,
            "overflow_x": null,
            "grid_auto_flow": null,
            "grid_area": null,
            "grid_template_columns": null,
            "flex": null,
            "_model_name": "LayoutModel",
            "justify_items": null,
            "grid_row": null,
            "max_height": null,
            "align_content": null,
            "visibility": null,
            "align_self": null,
            "height": null,
            "min_height": null,
            "padding": null,
            "grid_auto_rows": null,
            "grid_gap": null,
            "max_width": null,
            "order": null,
            "_view_module_version": "1.2.0",
            "grid_template_areas": null,
            "object_position": null,
            "object_fit": null,
            "grid_auto_columns": null,
            "margin": null,
            "display": null,
            "left": null
          }
        },
        "ed1e86065fcd4d86b0e9fcb87c4b4c7d": {
          "model_module": "@jupyter-widgets/controls",
          "model_name": "FloatProgressModel",
          "state": {
            "_view_name": "ProgressView",
            "style": "IPY_MODEL_c0cfc8963db54c508edc8d41b1cde130",
            "_dom_classes": [],
            "description": "Downloading: 100%",
            "_model_name": "FloatProgressModel",
            "bar_style": "success",
            "max": 297928209,
            "_view_module": "@jupyter-widgets/controls",
            "_model_module_version": "1.5.0",
            "value": 297928209,
            "_view_count": null,
            "_view_module_version": "1.5.0",
            "orientation": "horizontal",
            "min": 0,
            "description_tooltip": null,
            "_model_module": "@jupyter-widgets/controls",
            "layout": "IPY_MODEL_bad1061921424a02a2188ccc23196ab7"
          }
        },
        "01a51829bbf74e39abbb909a5cfc33c8": {
          "model_module": "@jupyter-widgets/controls",
          "model_name": "HTMLModel",
          "state": {
            "_view_name": "HTMLView",
            "style": "IPY_MODEL_3837347dbf504c26abc1626e9a74aebc",
            "_dom_classes": [],
            "description": "",
            "_model_name": "HTMLModel",
            "placeholder": "​",
            "_view_module": "@jupyter-widgets/controls",
            "_model_module_version": "1.5.0",
            "value": " 298M/298M [00:07&lt;00:00, 41.9MB/s]",
            "_view_count": null,
            "_view_module_version": "1.5.0",
            "description_tooltip": null,
            "_model_module": "@jupyter-widgets/controls",
            "layout": "IPY_MODEL_fabfb1d901bf4772bd379213e68b748f"
          }
        },
        "c0cfc8963db54c508edc8d41b1cde130": {
          "model_module": "@jupyter-widgets/controls",
          "model_name": "ProgressStyleModel",
          "state": {
            "_view_name": "StyleView",
            "_model_name": "ProgressStyleModel",
            "description_width": "initial",
            "_view_module": "@jupyter-widgets/base",
            "_model_module_version": "1.5.0",
            "_view_count": null,
            "_view_module_version": "1.2.0",
            "bar_color": null,
            "_model_module": "@jupyter-widgets/controls"
          }
        },
        "bad1061921424a02a2188ccc23196ab7": {
          "model_module": "@jupyter-widgets/base",
          "model_name": "LayoutModel",
          "state": {
            "_view_name": "LayoutView",
            "grid_template_rows": null,
            "right": null,
            "justify_content": null,
            "_view_module": "@jupyter-widgets/base",
            "overflow": null,
            "_model_module_version": "1.2.0",
            "_view_count": null,
            "flex_flow": null,
            "width": null,
            "min_width": null,
            "border": null,
            "align_items": null,
            "bottom": null,
            "_model_module": "@jupyter-widgets/base",
            "top": null,
            "grid_column": null,
            "overflow_y": null,
            "overflow_x": null,
            "grid_auto_flow": null,
            "grid_area": null,
            "grid_template_columns": null,
            "flex": null,
            "_model_name": "LayoutModel",
            "justify_items": null,
            "grid_row": null,
            "max_height": null,
            "align_content": null,
            "visibility": null,
            "align_self": null,
            "height": null,
            "min_height": null,
            "padding": null,
            "grid_auto_rows": null,
            "grid_gap": null,
            "max_width": null,
            "order": null,
            "_view_module_version": "1.2.0",
            "grid_template_areas": null,
            "object_position": null,
            "object_fit": null,
            "grid_auto_columns": null,
            "margin": null,
            "display": null,
            "left": null
          }
        },
        "3837347dbf504c26abc1626e9a74aebc": {
          "model_module": "@jupyter-widgets/controls",
          "model_name": "DescriptionStyleModel",
          "state": {
            "_view_name": "StyleView",
            "_model_name": "DescriptionStyleModel",
            "description_width": "",
            "_view_module": "@jupyter-widgets/base",
            "_model_module_version": "1.5.0",
            "_view_count": null,
            "_view_module_version": "1.2.0",
            "_model_module": "@jupyter-widgets/controls"
          }
        },
        "fabfb1d901bf4772bd379213e68b748f": {
          "model_module": "@jupyter-widgets/base",
          "model_name": "LayoutModel",
          "state": {
            "_view_name": "LayoutView",
            "grid_template_rows": null,
            "right": null,
            "justify_content": null,
            "_view_module": "@jupyter-widgets/base",
            "overflow": null,
            "_model_module_version": "1.2.0",
            "_view_count": null,
            "flex_flow": null,
            "width": null,
            "min_width": null,
            "border": null,
            "align_items": null,
            "bottom": null,
            "_model_module": "@jupyter-widgets/base",
            "top": null,
            "grid_column": null,
            "overflow_y": null,
            "overflow_x": null,
            "grid_auto_flow": null,
            "grid_area": null,
            "grid_template_columns": null,
            "flex": null,
            "_model_name": "LayoutModel",
            "justify_items": null,
            "grid_row": null,
            "max_height": null,
            "align_content": null,
            "visibility": null,
            "align_self": null,
            "height": null,
            "min_height": null,
            "padding": null,
            "grid_auto_rows": null,
            "grid_gap": null,
            "max_width": null,
            "order": null,
            "_view_module_version": "1.2.0",
            "grid_template_areas": null,
            "object_position": null,
            "object_fit": null,
            "grid_auto_columns": null,
            "margin": null,
            "display": null,
            "left": null
          }
        },
        "5945dccf94334863919f5000853866fc": {
          "model_module": "@jupyter-widgets/controls",
          "model_name": "HBoxModel",
          "state": {
            "_view_name": "HBoxView",
            "_dom_classes": [],
            "_model_name": "HBoxModel",
            "_view_module": "@jupyter-widgets/controls",
            "_model_module_version": "1.5.0",
            "_view_count": null,
            "_view_module_version": "1.5.0",
            "box_style": "",
            "layout": "IPY_MODEL_df26a2c89b9f421ab2e54f9fa63a3fed",
            "_model_module": "@jupyter-widgets/controls",
            "children": [
              "IPY_MODEL_919c9b41b3bb42fcba31d72fc5c077be",
              "IPY_MODEL_5d0b680efd3e45f394b22b01f1db1b3d"
            ]
          }
        },
        "df26a2c89b9f421ab2e54f9fa63a3fed": {
          "model_module": "@jupyter-widgets/base",
          "model_name": "LayoutModel",
          "state": {
            "_view_name": "LayoutView",
            "grid_template_rows": null,
            "right": null,
            "justify_content": null,
            "_view_module": "@jupyter-widgets/base",
            "overflow": null,
            "_model_module_version": "1.2.0",
            "_view_count": null,
            "flex_flow": null,
            "width": null,
            "min_width": null,
            "border": null,
            "align_items": null,
            "bottom": null,
            "_model_module": "@jupyter-widgets/base",
            "top": null,
            "grid_column": null,
            "overflow_y": null,
            "overflow_x": null,
            "grid_auto_flow": null,
            "grid_area": null,
            "grid_template_columns": null,
            "flex": null,
            "_model_name": "LayoutModel",
            "justify_items": null,
            "grid_row": null,
            "max_height": null,
            "align_content": null,
            "visibility": null,
            "align_self": null,
            "height": null,
            "min_height": null,
            "padding": null,
            "grid_auto_rows": null,
            "grid_gap": null,
            "max_width": null,
            "order": null,
            "_view_module_version": "1.2.0",
            "grid_template_areas": null,
            "object_position": null,
            "object_fit": null,
            "grid_auto_columns": null,
            "margin": null,
            "display": null,
            "left": null
          }
        },
        "919c9b41b3bb42fcba31d72fc5c077be": {
          "model_module": "@jupyter-widgets/controls",
          "model_name": "FloatProgressModel",
          "state": {
            "_view_name": "ProgressView",
            "style": "IPY_MODEL_5adc9ee5c7f34d52baafc17d7c9266b6",
            "_dom_classes": [],
            "description": "100%",
            "_model_name": "FloatProgressModel",
            "bar_style": "success",
            "max": 85,
            "_view_module": "@jupyter-widgets/controls",
            "_model_module_version": "1.5.0",
            "value": 85,
            "_view_count": null,
            "_view_module_version": "1.5.0",
            "orientation": "horizontal",
            "min": 0,
            "description_tooltip": null,
            "_model_module": "@jupyter-widgets/controls",
            "layout": "IPY_MODEL_21dbe6f3a79b4692a91a8f9cc25bcf04"
          }
        },
        "5d0b680efd3e45f394b22b01f1db1b3d": {
          "model_module": "@jupyter-widgets/controls",
          "model_name": "HTMLModel",
          "state": {
            "_view_name": "HTMLView",
            "style": "IPY_MODEL_8313e8169d6c4d34ac889eafbb770bfd",
            "_dom_classes": [],
            "description": "",
            "_model_name": "HTMLModel",
            "placeholder": "​",
            "_view_module": "@jupyter-widgets/controls",
            "_model_module_version": "1.5.0",
            "value": " 85/85 [01:38&lt;00:00,  1.16s/ba]",
            "_view_count": null,
            "_view_module_version": "1.5.0",
            "description_tooltip": null,
            "_model_module": "@jupyter-widgets/controls",
            "layout": "IPY_MODEL_2bc452ce18ae468582a93e3a1204263c"
          }
        },
        "5adc9ee5c7f34d52baafc17d7c9266b6": {
          "model_module": "@jupyter-widgets/controls",
          "model_name": "ProgressStyleModel",
          "state": {
            "_view_name": "StyleView",
            "_model_name": "ProgressStyleModel",
            "description_width": "initial",
            "_view_module": "@jupyter-widgets/base",
            "_model_module_version": "1.5.0",
            "_view_count": null,
            "_view_module_version": "1.2.0",
            "bar_color": null,
            "_model_module": "@jupyter-widgets/controls"
          }
        },
        "21dbe6f3a79b4692a91a8f9cc25bcf04": {
          "model_module": "@jupyter-widgets/base",
          "model_name": "LayoutModel",
          "state": {
            "_view_name": "LayoutView",
            "grid_template_rows": null,
            "right": null,
            "justify_content": null,
            "_view_module": "@jupyter-widgets/base",
            "overflow": null,
            "_model_module_version": "1.2.0",
            "_view_count": null,
            "flex_flow": null,
            "width": null,
            "min_width": null,
            "border": null,
            "align_items": null,
            "bottom": null,
            "_model_module": "@jupyter-widgets/base",
            "top": null,
            "grid_column": null,
            "overflow_y": null,
            "overflow_x": null,
            "grid_auto_flow": null,
            "grid_area": null,
            "grid_template_columns": null,
            "flex": null,
            "_model_name": "LayoutModel",
            "justify_items": null,
            "grid_row": null,
            "max_height": null,
            "align_content": null,
            "visibility": null,
            "align_self": null,
            "height": null,
            "min_height": null,
            "padding": null,
            "grid_auto_rows": null,
            "grid_gap": null,
            "max_width": null,
            "order": null,
            "_view_module_version": "1.2.0",
            "grid_template_areas": null,
            "object_position": null,
            "object_fit": null,
            "grid_auto_columns": null,
            "margin": null,
            "display": null,
            "left": null
          }
        },
        "8313e8169d6c4d34ac889eafbb770bfd": {
          "model_module": "@jupyter-widgets/controls",
          "model_name": "DescriptionStyleModel",
          "state": {
            "_view_name": "StyleView",
            "_model_name": "DescriptionStyleModel",
            "description_width": "",
            "_view_module": "@jupyter-widgets/base",
            "_model_module_version": "1.5.0",
            "_view_count": null,
            "_view_module_version": "1.2.0",
            "_model_module": "@jupyter-widgets/controls"
          }
        },
        "2bc452ce18ae468582a93e3a1204263c": {
          "model_module": "@jupyter-widgets/base",
          "model_name": "LayoutModel",
          "state": {
            "_view_name": "LayoutView",
            "grid_template_rows": null,
            "right": null,
            "justify_content": null,
            "_view_module": "@jupyter-widgets/base",
            "overflow": null,
            "_model_module_version": "1.2.0",
            "_view_count": null,
            "flex_flow": null,
            "width": null,
            "min_width": null,
            "border": null,
            "align_items": null,
            "bottom": null,
            "_model_module": "@jupyter-widgets/base",
            "top": null,
            "grid_column": null,
            "overflow_y": null,
            "overflow_x": null,
            "grid_auto_flow": null,
            "grid_area": null,
            "grid_template_columns": null,
            "flex": null,
            "_model_name": "LayoutModel",
            "justify_items": null,
            "grid_row": null,
            "max_height": null,
            "align_content": null,
            "visibility": null,
            "align_self": null,
            "height": null,
            "min_height": null,
            "padding": null,
            "grid_auto_rows": null,
            "grid_gap": null,
            "max_width": null,
            "order": null,
            "_view_module_version": "1.2.0",
            "grid_template_areas": null,
            "object_position": null,
            "object_fit": null,
            "grid_auto_columns": null,
            "margin": null,
            "display": null,
            "left": null
          }
        },
        "b94848579bd04a50b7c6b35d9377d5ab": {
          "model_module": "@jupyter-widgets/controls",
          "model_name": "HBoxModel",
          "state": {
            "_view_name": "HBoxView",
            "_dom_classes": [],
            "_model_name": "HBoxModel",
            "_view_module": "@jupyter-widgets/controls",
            "_model_module_version": "1.5.0",
            "_view_count": null,
            "_view_module_version": "1.5.0",
            "box_style": "",
            "layout": "IPY_MODEL_621c80cdb5aa414e95b7d6651bd03ae4",
            "_model_module": "@jupyter-widgets/controls",
            "children": [
              "IPY_MODEL_f004291696a946f79c7f517244606283",
              "IPY_MODEL_807c94a8c78f4787a75ad374217e100f"
            ]
          }
        },
        "621c80cdb5aa414e95b7d6651bd03ae4": {
          "model_module": "@jupyter-widgets/base",
          "model_name": "LayoutModel",
          "state": {
            "_view_name": "LayoutView",
            "grid_template_rows": null,
            "right": null,
            "justify_content": null,
            "_view_module": "@jupyter-widgets/base",
            "overflow": null,
            "_model_module_version": "1.2.0",
            "_view_count": null,
            "flex_flow": null,
            "width": null,
            "min_width": null,
            "border": null,
            "align_items": null,
            "bottom": null,
            "_model_module": "@jupyter-widgets/base",
            "top": null,
            "grid_column": null,
            "overflow_y": null,
            "overflow_x": null,
            "grid_auto_flow": null,
            "grid_area": null,
            "grid_template_columns": null,
            "flex": null,
            "_model_name": "LayoutModel",
            "justify_items": null,
            "grid_row": null,
            "max_height": null,
            "align_content": null,
            "visibility": null,
            "align_self": null,
            "height": null,
            "min_height": null,
            "padding": null,
            "grid_auto_rows": null,
            "grid_gap": null,
            "max_width": null,
            "order": null,
            "_view_module_version": "1.2.0",
            "grid_template_areas": null,
            "object_position": null,
            "object_fit": null,
            "grid_auto_columns": null,
            "margin": null,
            "display": null,
            "left": null
          }
        },
        "f004291696a946f79c7f517244606283": {
          "model_module": "@jupyter-widgets/controls",
          "model_name": "FloatProgressModel",
          "state": {
            "_view_name": "ProgressView",
            "style": "IPY_MODEL_11b8aa2a80dd41fcb1a80776ab6a9586",
            "_dom_classes": [],
            "description": "100%",
            "_model_name": "FloatProgressModel",
            "bar_style": "success",
            "max": 15,
            "_view_module": "@jupyter-widgets/controls",
            "_model_module_version": "1.5.0",
            "value": 15,
            "_view_count": null,
            "_view_module_version": "1.5.0",
            "orientation": "horizontal",
            "min": 0,
            "description_tooltip": null,
            "_model_module": "@jupyter-widgets/controls",
            "layout": "IPY_MODEL_d802b53389e8461ca1d0246ce43e4836"
          }
        },
        "807c94a8c78f4787a75ad374217e100f": {
          "model_module": "@jupyter-widgets/controls",
          "model_name": "HTMLModel",
          "state": {
            "_view_name": "HTMLView",
            "style": "IPY_MODEL_03ffe049979c4a9f943d99fc8428b4fd",
            "_dom_classes": [],
            "description": "",
            "_model_name": "HTMLModel",
            "placeholder": "​",
            "_view_module": "@jupyter-widgets/controls",
            "_model_module_version": "1.5.0",
            "value": " 15/15 [01:11&lt;00:00,  4.77s/ba]",
            "_view_count": null,
            "_view_module_version": "1.5.0",
            "description_tooltip": null,
            "_model_module": "@jupyter-widgets/controls",
            "layout": "IPY_MODEL_9af39b1ac0cd42a5b135fad00f1096c4"
          }
        },
        "11b8aa2a80dd41fcb1a80776ab6a9586": {
          "model_module": "@jupyter-widgets/controls",
          "model_name": "ProgressStyleModel",
          "state": {
            "_view_name": "StyleView",
            "_model_name": "ProgressStyleModel",
            "description_width": "initial",
            "_view_module": "@jupyter-widgets/base",
            "_model_module_version": "1.5.0",
            "_view_count": null,
            "_view_module_version": "1.2.0",
            "bar_color": null,
            "_model_module": "@jupyter-widgets/controls"
          }
        },
        "d802b53389e8461ca1d0246ce43e4836": {
          "model_module": "@jupyter-widgets/base",
          "model_name": "LayoutModel",
          "state": {
            "_view_name": "LayoutView",
            "grid_template_rows": null,
            "right": null,
            "justify_content": null,
            "_view_module": "@jupyter-widgets/base",
            "overflow": null,
            "_model_module_version": "1.2.0",
            "_view_count": null,
            "flex_flow": null,
            "width": null,
            "min_width": null,
            "border": null,
            "align_items": null,
            "bottom": null,
            "_model_module": "@jupyter-widgets/base",
            "top": null,
            "grid_column": null,
            "overflow_y": null,
            "overflow_x": null,
            "grid_auto_flow": null,
            "grid_area": null,
            "grid_template_columns": null,
            "flex": null,
            "_model_name": "LayoutModel",
            "justify_items": null,
            "grid_row": null,
            "max_height": null,
            "align_content": null,
            "visibility": null,
            "align_self": null,
            "height": null,
            "min_height": null,
            "padding": null,
            "grid_auto_rows": null,
            "grid_gap": null,
            "max_width": null,
            "order": null,
            "_view_module_version": "1.2.0",
            "grid_template_areas": null,
            "object_position": null,
            "object_fit": null,
            "grid_auto_columns": null,
            "margin": null,
            "display": null,
            "left": null
          }
        },
        "03ffe049979c4a9f943d99fc8428b4fd": {
          "model_module": "@jupyter-widgets/controls",
          "model_name": "DescriptionStyleModel",
          "state": {
            "_view_name": "StyleView",
            "_model_name": "DescriptionStyleModel",
            "description_width": "",
            "_view_module": "@jupyter-widgets/base",
            "_model_module_version": "1.5.0",
            "_view_count": null,
            "_view_module_version": "1.2.0",
            "_model_module": "@jupyter-widgets/controls"
          }
        },
        "9af39b1ac0cd42a5b135fad00f1096c4": {
          "model_module": "@jupyter-widgets/base",
          "model_name": "LayoutModel",
          "state": {
            "_view_name": "LayoutView",
            "grid_template_rows": null,
            "right": null,
            "justify_content": null,
            "_view_module": "@jupyter-widgets/base",
            "overflow": null,
            "_model_module_version": "1.2.0",
            "_view_count": null,
            "flex_flow": null,
            "width": null,
            "min_width": null,
            "border": null,
            "align_items": null,
            "bottom": null,
            "_model_module": "@jupyter-widgets/base",
            "top": null,
            "grid_column": null,
            "overflow_y": null,
            "overflow_x": null,
            "grid_auto_flow": null,
            "grid_area": null,
            "grid_template_columns": null,
            "flex": null,
            "_model_name": "LayoutModel",
            "justify_items": null,
            "grid_row": null,
            "max_height": null,
            "align_content": null,
            "visibility": null,
            "align_self": null,
            "height": null,
            "min_height": null,
            "padding": null,
            "grid_auto_rows": null,
            "grid_gap": null,
            "max_width": null,
            "order": null,
            "_view_module_version": "1.2.0",
            "grid_template_areas": null,
            "object_position": null,
            "object_fit": null,
            "grid_auto_columns": null,
            "margin": null,
            "display": null,
            "left": null
          }
        },
        "908082abb31d4871a592c912bcb0f5fd": {
          "model_module": "@jupyter-widgets/controls",
          "model_name": "HBoxModel",
          "state": {
            "_view_name": "HBoxView",
            "_dom_classes": [],
            "_model_name": "HBoxModel",
            "_view_module": "@jupyter-widgets/controls",
            "_model_module_version": "1.5.0",
            "_view_count": null,
            "_view_module_version": "1.5.0",
            "box_style": "",
            "layout": "IPY_MODEL_f256783ad14841588bd9e9c399d39d26",
            "_model_module": "@jupyter-widgets/controls",
            "children": [
              "IPY_MODEL_6909304375a04135bd3b3cf8facdf664",
              "IPY_MODEL_1dfcbff50b6e41338d8f26289cd3b094"
            ]
          }
        },
        "f256783ad14841588bd9e9c399d39d26": {
          "model_module": "@jupyter-widgets/base",
          "model_name": "LayoutModel",
          "state": {
            "_view_name": "LayoutView",
            "grid_template_rows": null,
            "right": null,
            "justify_content": null,
            "_view_module": "@jupyter-widgets/base",
            "overflow": null,
            "_model_module_version": "1.2.0",
            "_view_count": null,
            "flex_flow": null,
            "width": null,
            "min_width": null,
            "border": null,
            "align_items": null,
            "bottom": null,
            "_model_module": "@jupyter-widgets/base",
            "top": null,
            "grid_column": null,
            "overflow_y": null,
            "overflow_x": null,
            "grid_auto_flow": null,
            "grid_area": null,
            "grid_template_columns": null,
            "flex": null,
            "_model_name": "LayoutModel",
            "justify_items": null,
            "grid_row": null,
            "max_height": null,
            "align_content": null,
            "visibility": null,
            "align_self": null,
            "height": null,
            "min_height": null,
            "padding": null,
            "grid_auto_rows": null,
            "grid_gap": null,
            "max_width": null,
            "order": null,
            "_view_module_version": "1.2.0",
            "grid_template_areas": null,
            "object_position": null,
            "object_fit": null,
            "grid_auto_columns": null,
            "margin": null,
            "display": null,
            "left": null
          }
        },
        "6909304375a04135bd3b3cf8facdf664": {
          "model_module": "@jupyter-widgets/controls",
          "model_name": "FloatProgressModel",
          "state": {
            "_view_name": "ProgressView",
            "style": "IPY_MODEL_632dc0a6ba884ff79085c25f62230d8f",
            "_dom_classes": [],
            "description": "Downloading: ",
            "_model_name": "FloatProgressModel",
            "bar_style": "success",
            "max": 2236,
            "_view_module": "@jupyter-widgets/controls",
            "_model_module_version": "1.5.0",
            "value": 2236,
            "_view_count": null,
            "_view_module_version": "1.5.0",
            "orientation": "horizontal",
            "min": 0,
            "description_tooltip": null,
            "_model_module": "@jupyter-widgets/controls",
            "layout": "IPY_MODEL_1e70271f2a8c4c11b179e110e0f7768b"
          }
        },
        "1dfcbff50b6e41338d8f26289cd3b094": {
          "model_module": "@jupyter-widgets/controls",
          "model_name": "HTMLModel",
          "state": {
            "_view_name": "HTMLView",
            "style": "IPY_MODEL_5ba6f5c8618247b8afac9e47055b602b",
            "_dom_classes": [],
            "description": "",
            "_model_name": "HTMLModel",
            "placeholder": "​",
            "_view_module": "@jupyter-widgets/controls",
            "_model_module_version": "1.5.0",
            "value": " 5.40k/? [00:00&lt;00:00, 36.1kB/s]",
            "_view_count": null,
            "_view_module_version": "1.5.0",
            "description_tooltip": null,
            "_model_module": "@jupyter-widgets/controls",
            "layout": "IPY_MODEL_3ef80ea985994acdb3710a08fab3a568"
          }
        },
        "632dc0a6ba884ff79085c25f62230d8f": {
          "model_module": "@jupyter-widgets/controls",
          "model_name": "ProgressStyleModel",
          "state": {
            "_view_name": "StyleView",
            "_model_name": "ProgressStyleModel",
            "description_width": "initial",
            "_view_module": "@jupyter-widgets/base",
            "_model_module_version": "1.5.0",
            "_view_count": null,
            "_view_module_version": "1.2.0",
            "bar_color": null,
            "_model_module": "@jupyter-widgets/controls"
          }
        },
        "1e70271f2a8c4c11b179e110e0f7768b": {
          "model_module": "@jupyter-widgets/base",
          "model_name": "LayoutModel",
          "state": {
            "_view_name": "LayoutView",
            "grid_template_rows": null,
            "right": null,
            "justify_content": null,
            "_view_module": "@jupyter-widgets/base",
            "overflow": null,
            "_model_module_version": "1.2.0",
            "_view_count": null,
            "flex_flow": null,
            "width": null,
            "min_width": null,
            "border": null,
            "align_items": null,
            "bottom": null,
            "_model_module": "@jupyter-widgets/base",
            "top": null,
            "grid_column": null,
            "overflow_y": null,
            "overflow_x": null,
            "grid_auto_flow": null,
            "grid_area": null,
            "grid_template_columns": null,
            "flex": null,
            "_model_name": "LayoutModel",
            "justify_items": null,
            "grid_row": null,
            "max_height": null,
            "align_content": null,
            "visibility": null,
            "align_self": null,
            "height": null,
            "min_height": null,
            "padding": null,
            "grid_auto_rows": null,
            "grid_gap": null,
            "max_width": null,
            "order": null,
            "_view_module_version": "1.2.0",
            "grid_template_areas": null,
            "object_position": null,
            "object_fit": null,
            "grid_auto_columns": null,
            "margin": null,
            "display": null,
            "left": null
          }
        },
        "5ba6f5c8618247b8afac9e47055b602b": {
          "model_module": "@jupyter-widgets/controls",
          "model_name": "DescriptionStyleModel",
          "state": {
            "_view_name": "StyleView",
            "_model_name": "DescriptionStyleModel",
            "description_width": "",
            "_view_module": "@jupyter-widgets/base",
            "_model_module_version": "1.5.0",
            "_view_count": null,
            "_view_module_version": "1.2.0",
            "_model_module": "@jupyter-widgets/controls"
          }
        },
        "3ef80ea985994acdb3710a08fab3a568": {
          "model_module": "@jupyter-widgets/base",
          "model_name": "LayoutModel",
          "state": {
            "_view_name": "LayoutView",
            "grid_template_rows": null,
            "right": null,
            "justify_content": null,
            "_view_module": "@jupyter-widgets/base",
            "overflow": null,
            "_model_module_version": "1.2.0",
            "_view_count": null,
            "flex_flow": null,
            "width": null,
            "min_width": null,
            "border": null,
            "align_items": null,
            "bottom": null,
            "_model_module": "@jupyter-widgets/base",
            "top": null,
            "grid_column": null,
            "overflow_y": null,
            "overflow_x": null,
            "grid_auto_flow": null,
            "grid_area": null,
            "grid_template_columns": null,
            "flex": null,
            "_model_name": "LayoutModel",
            "justify_items": null,
            "grid_row": null,
            "max_height": null,
            "align_content": null,
            "visibility": null,
            "align_self": null,
            "height": null,
            "min_height": null,
            "padding": null,
            "grid_auto_rows": null,
            "grid_gap": null,
            "max_width": null,
            "order": null,
            "_view_module_version": "1.2.0",
            "grid_template_areas": null,
            "object_position": null,
            "object_fit": null,
            "grid_auto_columns": null,
            "margin": null,
            "display": null,
            "left": null
          }
        }
      }
    }
  },
  "cells": [
    {
      "cell_type": "code",
      "metadata": {
        "colab": {
          "base_uri": "https://localhost:8080/"
        },
        "id": "uWavSYwIk15x",
        "outputId": "78c366b5-5ace-41af-a278-0a6c848a37eb"
      },
      "source": [
        "!pip install -q transformers[sentencepiece] sacrebleu\n",
        "!pip install -q Datasets"
      ],
      "execution_count": 1,
      "outputs": [
        {
          "output_type": "stream",
          "text": [
            "\u001b[K     |████████████████████████████████| 2.5MB 27.5MB/s \n",
            "\u001b[K     |████████████████████████████████| 61kB 8.0MB/s \n",
            "\u001b[K     |████████████████████████████████| 3.3MB 38.0MB/s \n",
            "\u001b[K     |████████████████████████████████| 901kB 43.7MB/s \n",
            "\u001b[K     |████████████████████████████████| 1.1MB 43.6MB/s \n",
            "\u001b[K     |████████████████████████████████| 266kB 30.5MB/s \n",
            "\u001b[K     |████████████████████████████████| 245kB 43.9MB/s \n",
            "\u001b[K     |████████████████████████████████| 122kB 46.8MB/s \n",
            "\u001b[?25h  Installing build dependencies ... \u001b[?25l\u001b[?25hdone\n",
            "  Getting requirements to build wheel ... \u001b[?25l\u001b[?25hdone\n",
            "    Preparing wheel metadata ... \u001b[?25l\u001b[?25hdone\n",
            "\u001b[K     |████████████████████████████████| 645kB 35.8MB/s \n",
            "\u001b[K     |████████████████████████████████| 829kB 39.8MB/s \n",
            "\u001b[K     |████████████████████████████████| 10.6MB 40.9MB/s \n",
            "\u001b[K     |████████████████████████████████| 235kB 33.6MB/s \n",
            "\u001b[K     |████████████████████████████████| 1.3MB 41.8MB/s \n",
            "\u001b[K     |████████████████████████████████| 296kB 48.8MB/s \n",
            "\u001b[K     |████████████████████████████████| 143kB 50.9MB/s \n",
            "\u001b[?25h  Building wheel for pytorch-lightning (PEP 517) ... \u001b[?25l\u001b[?25hdone\n",
            "  Building wheel for future (setup.py) ... \u001b[?25l\u001b[?25hdone\n",
            "\u001b[31mERROR: tensorflow 2.5.0 has requirement tensorboard~=2.5, but you'll have tensorboard 2.4.1 which is incompatible.\u001b[0m\n"
          ],
          "name": "stdout"
        }
      ]
    },
    {
      "cell_type": "code",
      "metadata": {
        "colab": {
          "base_uri": "https://localhost:8080/"
        },
        "id": "rOneUYVolAxr",
        "outputId": "906ca8c3-a0c7-4b4c-c9e2-b0a08ee28757"
      },
      "source": [
        "!gdown https://drive.google.com/uc?id=1vrfoukPD0GcoLaP8RewHvIKzcL-8Pnky"
      ],
      "execution_count": 2,
      "outputs": [
        {
          "output_type": "stream",
          "text": [
            "Downloading...\n",
            "From: https://drive.google.com/uc?id=1vrfoukPD0GcoLaP8RewHvIKzcL-8Pnky\n",
            "To: /content/German.xlsx\n",
            "15.0MB [00:00, 35.9MB/s]\n"
          ],
          "name": "stdout"
        }
      ]
    },
    {
      "cell_type": "code",
      "metadata": {
        "id": "2UeKySpMlFco"
      },
      "source": [
        "import pandas as pd\n",
        "import numpy as np\n",
        "import torch\n",
        "from sklearn.model_selection import train_test_split\n",
        "from datasets import Dataset,load_dataset,load_metric\n",
        "from transformers import AutoTokenizer,AutoModelForSeq2SeqLM,DataCollatorForSeq2Seq, Seq2SeqTrainingArguments, Seq2SeqTrainer"
      ],
      "execution_count": 3,
      "outputs": []
    },
    {
      "cell_type": "code",
      "metadata": {
        "id": "04EpOfTqlXtW",
        "colab": {
          "base_uri": "https://localhost:8080/",
          "height": 203
        },
        "outputId": "b93e5107-0a95-4f98-91e9-aab07c047506"
      },
      "source": [
        "df = pd.read_excel('/content/German.xlsx')\n",
        "df.head()"
      ],
      "execution_count": 4,
      "outputs": [
        {
          "output_type": "execute_result",
          "data": {
            "text/html": [
              "<div>\n",
              "<style scoped>\n",
              "    .dataframe tbody tr th:only-of-type {\n",
              "        vertical-align: middle;\n",
              "    }\n",
              "\n",
              "    .dataframe tbody tr th {\n",
              "        vertical-align: top;\n",
              "    }\n",
              "\n",
              "    .dataframe thead th {\n",
              "        text-align: right;\n",
              "    }\n",
              "</style>\n",
              "<table border=\"1\" class=\"dataframe\">\n",
              "  <thead>\n",
              "    <tr style=\"text-align: right;\">\n",
              "      <th></th>\n",
              "      <th>English</th>\n",
              "      <th>German</th>\n",
              "    </tr>\n",
              "  </thead>\n",
              "  <tbody>\n",
              "    <tr>\n",
              "      <th>0</th>\n",
              "      <td>Resumption of the session</td>\n",
              "      <td>Wiederaufnahme der Sitzungsperiode</td>\n",
              "    </tr>\n",
              "    <tr>\n",
              "      <th>1</th>\n",
              "      <td>I declare resumed the session of the European ...</td>\n",
              "      <td>Ich erkläre die am Freitag, dem 17. Dezember u...</td>\n",
              "    </tr>\n",
              "    <tr>\n",
              "      <th>2</th>\n",
              "      <td>Although, as you will have seen, the dreaded '...</td>\n",
              "      <td>Wie Sie feststellen konnten, ist der gefürchte...</td>\n",
              "    </tr>\n",
              "    <tr>\n",
              "      <th>3</th>\n",
              "      <td>You have requested a debate on this subject in...</td>\n",
              "      <td>Im Parlament besteht der Wunsch nach einer Aus...</td>\n",
              "    </tr>\n",
              "    <tr>\n",
              "      <th>4</th>\n",
              "      <td>In the meantime, I should like to observe a mi...</td>\n",
              "      <td>Heute möchte ich Sie bitten - das ist auch der...</td>\n",
              "    </tr>\n",
              "  </tbody>\n",
              "</table>\n",
              "</div>"
            ],
            "text/plain": [
              "                                             English                                             German\n",
              "0                          Resumption of the session                 Wiederaufnahme der Sitzungsperiode\n",
              "1  I declare resumed the session of the European ...  Ich erkläre die am Freitag, dem 17. Dezember u...\n",
              "2  Although, as you will have seen, the dreaded '...  Wie Sie feststellen konnten, ist der gefürchte...\n",
              "3  You have requested a debate on this subject in...  Im Parlament besteht der Wunsch nach einer Aus...\n",
              "4  In the meantime, I should like to observe a mi...  Heute möchte ich Sie bitten - das ist auch der..."
            ]
          },
          "metadata": {
            "tags": []
          },
          "execution_count": 4
        }
      ]
    },
    {
      "cell_type": "code",
      "metadata": {
        "colab": {
          "base_uri": "https://localhost:8080/"
        },
        "id": "iytIpGqopfve",
        "outputId": "07a31cfa-d5e8-4704-929f-4b52407d80fe"
      },
      "source": [
        "df.isnull().sum()"
      ],
      "execution_count": 5,
      "outputs": [
        {
          "output_type": "execute_result",
          "data": {
            "text/plain": [
              "English    423\n",
              "German     162\n",
              "dtype: int64"
            ]
          },
          "metadata": {
            "tags": []
          },
          "execution_count": 5
        }
      ]
    },
    {
      "cell_type": "code",
      "metadata": {
        "id": "B-KF7-CCphtm"
      },
      "source": [
        "df.dropna(axis = 0,inplace = True)\n",
        "df.reset_index(inplace = True)\n",
        "df.drop('index',axis = 1,inplace=True)"
      ],
      "execution_count": 6,
      "outputs": []
    },
    {
      "cell_type": "code",
      "metadata": {
        "colab": {
          "base_uri": "https://localhost:8080/"
        },
        "id": "3iDd7iDrpo2R",
        "outputId": "986c5f29-9038-43d7-d298-36d838d84516"
      },
      "source": [
        "pd.Series({c: df[c].map(lambda x: len(str(x))).max() for c in df}).sort_values(ascending = False)#truncation required"
      ],
      "execution_count": 7,
      "outputs": [
        {
          "output_type": "execute_result",
          "data": {
            "text/plain": [
              "English    1871\n",
              "German     1607\n",
              "dtype: int64"
            ]
          },
          "metadata": {
            "tags": []
          },
          "execution_count": 7
        }
      ]
    },
    {
      "cell_type": "code",
      "metadata": {
        "id": "FEU-4XTVprar"
      },
      "source": [
        "train_df,val_df = train_test_split(df,test_size = 0.15,random_state = 42)"
      ],
      "execution_count": 8,
      "outputs": []
    },
    {
      "cell_type": "code",
      "metadata": {
        "id": "ImlY4fdEpxN7"
      },
      "source": [
        "train_dataset = Dataset.from_pandas(train_df)\n",
        "val_dataset = Dataset.from_pandas(val_df)"
      ],
      "execution_count": 9,
      "outputs": []
    },
    {
      "cell_type": "code",
      "metadata": {
        "colab": {
          "base_uri": "https://localhost:8080/"
        },
        "id": "9XcB0PzcqaF3",
        "outputId": "d24780c5-4afe-4ef6-9745-70096b56bb3c"
      },
      "source": [
        "print(train_dataset)\n",
        "print(val_dataset)"
      ],
      "execution_count": 10,
      "outputs": [
        {
          "output_type": "stream",
          "text": [
            "Dataset({\n",
            "    features: ['English', 'German', '__index_level_0__'],\n",
            "    num_rows: 84502\n",
            "})\n",
            "Dataset({\n",
            "    features: ['English', 'German', '__index_level_0__'],\n",
            "    num_rows: 14913\n",
            "})\n"
          ],
          "name": "stdout"
        }
      ]
    },
    {
      "cell_type": "code",
      "metadata": {
        "id": "0iVyX63nqfm0"
      },
      "source": [
        "train_dataset = train_dataset.remove_columns(['__index_level_0__'])\n",
        "val_dataset = val_dataset.remove_columns(['__index_level_0__'])"
      ],
      "execution_count": 11,
      "outputs": []
    },
    {
      "cell_type": "code",
      "metadata": {
        "colab": {
          "base_uri": "https://localhost:8080/",
          "height": 35
        },
        "id": "oIQNeUdlqrOK",
        "outputId": "cd1af1fe-832c-4d98-95eb-c6579d5ac3be"
      },
      "source": [
        "train_dataset['English'][0]"
      ],
      "execution_count": 12,
      "outputs": [
        {
          "output_type": "execute_result",
          "data": {
            "application/vnd.google.colaboratory.intrinsic+json": {
              "type": "string"
            },
            "text/plain": [
              "'But is this the right level at which to produce such very detailed technical descriptions as this Directive is attempting to produce?'"
            ]
          },
          "metadata": {
            "tags": []
          },
          "execution_count": 12
        }
      ]
    },
    {
      "cell_type": "code",
      "metadata": {
        "colab": {
          "base_uri": "https://localhost:8080/",
          "height": 310,
          "referenced_widgets": [
            "f327dae7d32f405d8ba09b8a3094d010",
            "afa02f8cb87f43d9abb6c0f86dc2e9d7",
            "32bd9f6d53c84d778494b5ff763bfd3d",
            "323e4b588937456eacdbe1d4ccf8223f",
            "10068921400448d88805108caa3ccc1b",
            "6488b0121aee4961bdc17831f73f8503",
            "d0b8a0cfa3fc412c84b39ab15f41671e",
            "d8873e3390774632afabee76b20cb219",
            "135abae329da4fda9ba0afeb3c34a5ec",
            "505e99397a04447b9ad955c69fd93239",
            "4ff5a9f95a704bc2ab058b761fb8c959",
            "970cab93dc7f416fad28d963ffb145ec",
            "f1291c51806943faa7c7892f3745a1cb",
            "b455315313de4f1cb993638775a7822c",
            "abd5ea9c1e13423c96dce74fc56e421e",
            "1040ec62900143c69b437d2b05d71395",
            "966648be08e448bea84d6b6ddb92b707",
            "a24c86fb817641469bf961929cf37914",
            "319afba1747b4e47b9a51f3922dd2248",
            "ec291acdbd404382b74ddebf89312781",
            "95bd532d84064b59b3ee72e8ea247cd3",
            "66e449138cdf44fbb1b76d9a30a600dc",
            "563c91bd2b964fc4ac4d486754e8cff8",
            "a3696dc1ffdb4099beed50cf651c4394",
            "0915ea8c2e004fe08d6f1ebfeeae62b9",
            "b409ffa1fa10418c967afe936624b306",
            "6c8777b2e8404f4388bc8f78c0b1e764",
            "2f2cae00dc9242c992a209ad5e6e10d4",
            "27e291abd0db4a6c8ce62a5dc548b2c9",
            "76c5b0c1c4c2476ebcfcd3a095e2d6ea",
            "35b0376702b64a1397b0c0d7f739267b",
            "53d5562cf3d24eb8877b7cd76d001800",
            "9c2fc55c96f947a9867092975dcfd6c7",
            "24a8e5cd3b544ac19df0f05c5e6f9adb",
            "91dd74f755bf4897a31e2402bbced91b",
            "2f4c1e1f8a2c406db1164f592f954934",
            "8bdc0e3c83b640da90c8e10aef7b1ec6",
            "b07579fe4913480384d05ca729471b5a",
            "dde642b58a9443a9b7aa9f454b1a64db",
            "567ee8af60bd4e2e980ca034137fa5e4",
            "5213de0cb0b64e04b2cc5561e54b5dfb",
            "0043b2dd65e5458dbde6bae078f14117",
            "ed1e86065fcd4d86b0e9fcb87c4b4c7d",
            "01a51829bbf74e39abbb909a5cfc33c8",
            "c0cfc8963db54c508edc8d41b1cde130",
            "bad1061921424a02a2188ccc23196ab7",
            "3837347dbf504c26abc1626e9a74aebc",
            "fabfb1d901bf4772bd379213e68b748f"
          ]
        },
        "id": "qEMULFGmqzAG",
        "outputId": "38ee0add-42a9-4d17-baa7-db40dbce540b"
      },
      "source": [
        "checkpoint = \"Helsinki-NLP/opus-mt-en-de\"\n",
        "from transformers import MarianConfig,MarianMTModel,MarianTokenizer\n",
        "tokenizer = MarianTokenizer.from_pretrained(checkpoint)\n",
        "model = MarianMTModel.from_pretrained(checkpoint)"
      ],
      "execution_count": 13,
      "outputs": [
        {
          "output_type": "display_data",
          "data": {
            "application/vnd.jupyter.widget-view+json": {
              "model_id": "f327dae7d32f405d8ba09b8a3094d010",
              "version_minor": 0,
              "version_major": 2
            },
            "text/plain": [
              "HBox(children=(FloatProgress(value=0.0, description='Downloading', max=768489.0, style=ProgressStyle(descripti…"
            ]
          },
          "metadata": {
            "tags": []
          }
        },
        {
          "output_type": "stream",
          "text": [
            "\n"
          ],
          "name": "stdout"
        },
        {
          "output_type": "display_data",
          "data": {
            "application/vnd.jupyter.widget-view+json": {
              "model_id": "135abae329da4fda9ba0afeb3c34a5ec",
              "version_minor": 0,
              "version_major": 2
            },
            "text/plain": [
              "HBox(children=(FloatProgress(value=0.0, description='Downloading', max=796845.0, style=ProgressStyle(descripti…"
            ]
          },
          "metadata": {
            "tags": []
          }
        },
        {
          "output_type": "stream",
          "text": [
            "\n"
          ],
          "name": "stdout"
        },
        {
          "output_type": "display_data",
          "data": {
            "application/vnd.jupyter.widget-view+json": {
              "model_id": "966648be08e448bea84d6b6ddb92b707",
              "version_minor": 0,
              "version_major": 2
            },
            "text/plain": [
              "HBox(children=(FloatProgress(value=0.0, description='Downloading', max=1273232.0, style=ProgressStyle(descript…"
            ]
          },
          "metadata": {
            "tags": []
          }
        },
        {
          "output_type": "stream",
          "text": [
            "\n"
          ],
          "name": "stdout"
        },
        {
          "output_type": "display_data",
          "data": {
            "application/vnd.jupyter.widget-view+json": {
              "model_id": "0915ea8c2e004fe08d6f1ebfeeae62b9",
              "version_minor": 0,
              "version_major": 2
            },
            "text/plain": [
              "HBox(children=(FloatProgress(value=0.0, description='Downloading', max=42.0, style=ProgressStyle(description_w…"
            ]
          },
          "metadata": {
            "tags": []
          }
        },
        {
          "output_type": "stream",
          "text": [
            "\n"
          ],
          "name": "stdout"
        },
        {
          "output_type": "display_data",
          "data": {
            "application/vnd.jupyter.widget-view+json": {
              "model_id": "9c2fc55c96f947a9867092975dcfd6c7",
              "version_minor": 0,
              "version_major": 2
            },
            "text/plain": [
              "HBox(children=(FloatProgress(value=0.0, description='Downloading', max=1335.0, style=ProgressStyle(description…"
            ]
          },
          "metadata": {
            "tags": []
          }
        },
        {
          "output_type": "stream",
          "text": [
            "\n"
          ],
          "name": "stdout"
        },
        {
          "output_type": "display_data",
          "data": {
            "application/vnd.jupyter.widget-view+json": {
              "model_id": "5213de0cb0b64e04b2cc5561e54b5dfb",
              "version_minor": 0,
              "version_major": 2
            },
            "text/plain": [
              "HBox(children=(FloatProgress(value=0.0, description='Downloading', max=297928209.0, style=ProgressStyle(descri…"
            ]
          },
          "metadata": {
            "tags": []
          }
        },
        {
          "output_type": "stream",
          "text": [
            "\n"
          ],
          "name": "stdout"
        }
      ]
    },
    {
      "cell_type": "code",
      "metadata": {
        "colab": {
          "base_uri": "https://localhost:8080/"
        },
        "id": "dXrLAzJjrhGD",
        "outputId": "5ad512c3-bd4f-4407-edb5-0b9e67681c07"
      },
      "source": [
        "tokenizer(train_dataset['English'][0:2])"
      ],
      "execution_count": 14,
      "outputs": [
        {
          "output_type": "execute_result",
          "data": {
            "text/plain": [
              "{'input_ids': [[390, 19, 60, 4, 315, 575, 67, 86, 12, 4098, 243, 256, 3476, 1219, 17942, 52, 60, 830, 19, 35586, 12, 4098, 31, 0], [36, 3451, 19, 7, 780, 12, 1722, 2, 226, 8, 26349, 2, 14, 1323, 988, 1856, 86, 73, 2287, 4, 966, 5, 60, 405, 12, 43, 24435, 3, 0]], 'attention_mask': [[1, 1, 1, 1, 1, 1, 1, 1, 1, 1, 1, 1, 1, 1, 1, 1, 1, 1, 1, 1, 1, 1, 1, 1], [1, 1, 1, 1, 1, 1, 1, 1, 1, 1, 1, 1, 1, 1, 1, 1, 1, 1, 1, 1, 1, 1, 1, 1, 1, 1, 1, 1, 1]]}"
            ]
          },
          "metadata": {
            "tags": []
          },
          "execution_count": 14
        }
      ]
    },
    {
      "cell_type": "code",
      "metadata": {
        "colab": {
          "base_uri": "https://localhost:8080/"
        },
        "id": "MxjbNUq5sQe1",
        "outputId": "be7cc1ba-3c4f-4832-9c19-f1279e072383"
      },
      "source": [
        "for idx,i in enumerate(train_dataset['English']):\n",
        "  print(i)\n",
        "  if idx == 5:\n",
        "    break"
      ],
      "execution_count": 15,
      "outputs": [
        {
          "output_type": "stream",
          "text": [
            "But is this the right level at which to produce such very detailed technical descriptions as this Directive is attempting to produce?\n",
            "The objective is of course to create, first and foremost, a clear general framework which will allow the law in this area to be simplified.\n",
            "I find it totally unacceptable that we are witnessing violations of international humanitarian law by the Russian army.\n",
            "By renovating those structures and systems, in some cases very radically, we will assist the people of the Commission who are strongly committed to the European ideal and have high quality of capability to release talents and manifest themselves as never before.\n",
            "It is, in fact, important that the candidate countries be involved.\n",
            "Vaclav Havel stated that, in Eastern Europe, the Communist regimes methodically destroyed civil society: national movements, churches and the independent trade unions.\n"
          ],
          "name": "stdout"
        }
      ]
    },
    {
      "cell_type": "code",
      "metadata": {
        "colab": {
          "base_uri": "https://localhost:8080/"
        },
        "id": "98v5TC2MswLx",
        "outputId": "5e85d2b4-a58c-4e7f-8333-8b8e173acd1a"
      },
      "source": [
        "type(train_dataset['English'])"
      ],
      "execution_count": 16,
      "outputs": [
        {
          "output_type": "execute_result",
          "data": {
            "text/plain": [
              "list"
            ]
          },
          "metadata": {
            "tags": []
          },
          "execution_count": 16
        }
      ]
    },
    {
      "cell_type": "code",
      "metadata": {
        "id": "mzw2JrKdpwO4"
      },
      "source": [
        "def preprocess(examples,MAX_LENGTH = 256):\n",
        "  model_inputs = tokenizer(examples['English'],\n",
        "                           max_length=MAX_LENGTH,\n",
        "                           padding = 'max_length',\n",
        "                           truncation=True,\n",
        "                           return_attention_mask = True)\n",
        "  with tokenizer.as_target_tokenizer():\n",
        "    targets = tokenizer(examples['German'],\n",
        "                        max_length=MAX_LENGTH,\n",
        "                        padding='max_length',\n",
        "                        truncation=True,\n",
        "                        return_attention_mask=True)\n",
        "  model_inputs['labels'] = targets['input_ids']\n",
        "  model_inputs['decoder_input_ids'] = targets['input_ids']\n",
        "  model_inputs['decoder_attention_mask'] = targets['attention_mask']\n",
        "  return model_inputs"
      ],
      "execution_count": 17,
      "outputs": []
    },
    {
      "cell_type": "code",
      "metadata": {
        "colab": {
          "base_uri": "https://localhost:8080/",
          "height": 114,
          "referenced_widgets": [
            "5945dccf94334863919f5000853866fc",
            "df26a2c89b9f421ab2e54f9fa63a3fed",
            "919c9b41b3bb42fcba31d72fc5c077be",
            "5d0b680efd3e45f394b22b01f1db1b3d",
            "5adc9ee5c7f34d52baafc17d7c9266b6",
            "21dbe6f3a79b4692a91a8f9cc25bcf04",
            "8313e8169d6c4d34ac889eafbb770bfd",
            "2bc452ce18ae468582a93e3a1204263c",
            "b94848579bd04a50b7c6b35d9377d5ab",
            "621c80cdb5aa414e95b7d6651bd03ae4",
            "f004291696a946f79c7f517244606283",
            "807c94a8c78f4787a75ad374217e100f",
            "11b8aa2a80dd41fcb1a80776ab6a9586",
            "d802b53389e8461ca1d0246ce43e4836",
            "03ffe049979c4a9f943d99fc8428b4fd",
            "9af39b1ac0cd42a5b135fad00f1096c4"
          ]
        },
        "id": "twYxfPDPuM1c",
        "outputId": "e4da2167-4284-4f11-ef50-bbf43865e39d"
      },
      "source": [
        "train_tokenized = train_dataset.map(preprocess,batched=True)\n",
        "validation_tokenized = val_dataset.map(preprocess,batched=True)"
      ],
      "execution_count": 18,
      "outputs": [
        {
          "output_type": "display_data",
          "data": {
            "application/vnd.jupyter.widget-view+json": {
              "model_id": "5945dccf94334863919f5000853866fc",
              "version_minor": 0,
              "version_major": 2
            },
            "text/plain": [
              "HBox(children=(FloatProgress(value=0.0, max=85.0), HTML(value='')))"
            ]
          },
          "metadata": {
            "tags": []
          }
        },
        {
          "output_type": "stream",
          "text": [
            "\n"
          ],
          "name": "stdout"
        },
        {
          "output_type": "display_data",
          "data": {
            "application/vnd.jupyter.widget-view+json": {
              "model_id": "b94848579bd04a50b7c6b35d9377d5ab",
              "version_minor": 0,
              "version_major": 2
            },
            "text/plain": [
              "HBox(children=(FloatProgress(value=0.0, max=15.0), HTML(value='')))"
            ]
          },
          "metadata": {
            "tags": []
          }
        },
        {
          "output_type": "stream",
          "text": [
            "\n"
          ],
          "name": "stdout"
        }
      ]
    },
    {
      "cell_type": "code",
      "metadata": {
        "id": "eAuGYJJ-uaPd"
      },
      "source": [
        "train_tokenized = train_tokenized.remove_columns(['English','German'])\n",
        "validation_tokenized = validation_tokenized.remove_columns(['English','German'])"
      ],
      "execution_count": 19,
      "outputs": []
    },
    {
      "cell_type": "code",
      "metadata": {
        "id": "t9EQmvEAxXsO"
      },
      "source": [
        "# train_tokenized.set_format('torch')\n",
        "# validation_tokenized.set_format('torch')"
      ],
      "execution_count": 20,
      "outputs": []
    },
    {
      "cell_type": "code",
      "metadata": {
        "colab": {
          "base_uri": "https://localhost:8080/"
        },
        "id": "tcwE3HwZx1yK",
        "outputId": "39b47b49-8d65-49f3-b712-114d0294020d"
      },
      "source": [
        "train_tokenized.column_names"
      ],
      "execution_count": 21,
      "outputs": [
        {
          "output_type": "execute_result",
          "data": {
            "text/plain": [
              "['attention_mask',\n",
              " 'decoder_attention_mask',\n",
              " 'decoder_input_ids',\n",
              " 'input_ids',\n",
              " 'labels']"
            ]
          },
          "metadata": {
            "tags": []
          },
          "execution_count": 21
        }
      ]
    },
    {
      "cell_type": "code",
      "metadata": {
        "colab": {
          "base_uri": "https://localhost:8080/"
        },
        "id": "83KJvfpyy8fM",
        "outputId": "95e927b6-7e55-4926-f6ed-060323d96766"
      },
      "source": [
        "model.config.pad_token_id"
      ],
      "execution_count": 22,
      "outputs": [
        {
          "output_type": "execute_result",
          "data": {
            "text/plain": [
              "58100"
            ]
          },
          "metadata": {
            "tags": []
          },
          "execution_count": 22
        }
      ]
    },
    {
      "cell_type": "code",
      "metadata": {
        "id": "PZdoTN17z0gg"
      },
      "source": [
        "data_collator = DataCollatorForSeq2Seq(model = model,tokenizer = tokenizer,label_pad_token_id=-100)"
      ],
      "execution_count": 24,
      "outputs": []
    },
    {
      "cell_type": "code",
      "metadata": {
        "id": "bZqoD8BIg31J",
        "colab": {
          "base_uri": "https://localhost:8080/",
          "height": 66,
          "referenced_widgets": [
            "908082abb31d4871a592c912bcb0f5fd",
            "f256783ad14841588bd9e9c399d39d26",
            "6909304375a04135bd3b3cf8facdf664",
            "1dfcbff50b6e41338d8f26289cd3b094",
            "632dc0a6ba884ff79085c25f62230d8f",
            "1e70271f2a8c4c11b179e110e0f7768b",
            "5ba6f5c8618247b8afac9e47055b602b",
            "3ef80ea985994acdb3710a08fab3a568"
          ]
        },
        "outputId": "3920b7c4-d42c-493b-d946-6e7c7e7dabef"
      },
      "source": [
        "metric = load_metric(\"sacrebleu\")"
      ],
      "execution_count": 27,
      "outputs": [
        {
          "output_type": "display_data",
          "data": {
            "application/vnd.jupyter.widget-view+json": {
              "model_id": "908082abb31d4871a592c912bcb0f5fd",
              "version_minor": 0,
              "version_major": 2
            },
            "text/plain": [
              "HBox(children=(FloatProgress(value=0.0, description='Downloading', max=2236.0, style=ProgressStyle(description…"
            ]
          },
          "metadata": {
            "tags": []
          }
        },
        {
          "output_type": "stream",
          "text": [
            "\n"
          ],
          "name": "stdout"
        }
      ]
    },
    {
      "cell_type": "code",
      "metadata": {
        "id": "o-UeqLdW0LIs"
      },
      "source": [
        "batch_size = 16\n",
        "learning_rate = 2e-5\n",
        "args = Seq2SeqTrainingArguments(\n",
        "    \"test-translation\",\n",
        "    evaluation_strategy = \"epoch\",\n",
        "    learning_rate=learning_rate,\n",
        "    per_device_train_batch_size=batch_size,\n",
        "    per_device_eval_batch_size=batch_size,\n",
        "    weight_decay=0.01,\n",
        "    save_total_limit=3,\n",
        "    num_train_epochs=5,\n",
        "    predict_with_generate=True,\n",
        "    fp16=True,\n",
        "    push_to_hub = True\n",
        ")"
      ],
      "execution_count": 28,
      "outputs": []
    },
    {
      "cell_type": "code",
      "metadata": {
        "id": "d7FEPxVJQo3W"
      },
      "source": [
        "def postprocess_text(preds, labels):\n",
        "    preds = [pred.strip() for pred in preds]\n",
        "    labels = [[label.strip()] for label in labels]\n",
        "\n",
        "    return preds, labels\n",
        "\n",
        "def compute_metrics(eval_preds):\n",
        "    preds, labels = eval_preds\n",
        "    if isinstance(preds, tuple):\n",
        "        preds = preds[0]\n",
        "    decoded_preds = tokenizer.batch_decode(preds, skip_special_tokens=True)\n",
        "    labels = np.where(labels != -100, labels, tokenizer.pad_token_id)\n",
        "    decoded_labels = tokenizer.batch_decode(labels, skip_special_tokens=True)\n",
        "    decoded_preds, decoded_labels = postprocess_text(decoded_preds, decoded_labels)\n",
        "    result = metric.compute(predictions=decoded_preds, references=decoded_labels)\n",
        "    result = {\"bleu\": result[\"score\"]}\n",
        "    prediction_lens = [np.count_nonzero(pred != tokenizer.pad_token_id) for pred in preds]\n",
        "    result[\"gen_len\"] = np.mean(prediction_lens)\n",
        "    result = {k: round(v, 4) for k, v in result.items()}\n",
        "    return result"
      ],
      "execution_count": 29,
      "outputs": []
    },
    {
      "cell_type": "code",
      "metadata": {
        "colab": {
          "base_uri": "https://localhost:8080/"
        },
        "id": "Q_u2kS_mR8Gj",
        "outputId": "ce2d76fe-b07a-493e-b7b5-c22dbba89178"
      },
      "source": [
        "trainer = Seq2SeqTrainer(\n",
        "    model,\n",
        "    args,\n",
        "    train_dataset=train_tokenized,\n",
        "    eval_dataset=validation_tokenized,\n",
        "    data_collator=data_collator,\n",
        "    tokenizer=tokenizer,\n",
        "    compute_metrics=compute_metrics\n",
        ")"
      ],
      "execution_count": 30,
      "outputs": [
        {
          "output_type": "stream",
          "text": [
            "Using amp fp16 backend\n"
          ],
          "name": "stderr"
        }
      ]
    },
    {
      "cell_type": "code",
      "metadata": {
        "colab": {
          "base_uri": "https://localhost:8080/",
          "height": 1000
        },
        "id": "5ut4JOYTSH3w",
        "outputId": "c5d9f74e-9c3a-4da3-f1d7-582420c4831c"
      },
      "source": [
        "trainer.train()"
      ],
      "execution_count": 31,
      "outputs": [
        {
          "output_type": "stream",
          "text": [
            "***** Running training *****\n",
            "  Num examples = 84502\n",
            "  Num Epochs = 5\n",
            "  Instantaneous batch size per device = 16\n",
            "  Total train batch size (w. parallel, distributed & accumulation) = 16\n",
            "  Gradient Accumulation steps = 1\n",
            "  Total optimization steps = 26410\n",
            "/usr/local/lib/python3.7/dist-packages/transformers/trainer.py:1299: FutureWarning: Non-finite norm encountered in torch.nn.utils.clip_grad_norm_; continuing anyway. Note that the default behavior will change in a future release to error out if a non-finite total norm is encountered. At that point, setting error_if_nonfinite=false will be required to retain the old behavior.\n",
            "  args.max_grad_norm,\n"
          ],
          "name": "stderr"
        },
        {
          "output_type": "display_data",
          "data": {
            "text/html": [
              "\n",
              "    <div>\n",
              "      \n",
              "      <progress value='26410' max='26410' style='width:300px; height:20px; vertical-align: middle;'></progress>\n",
              "      [26410/26410 5:18:44, Epoch 5/5]\n",
              "    </div>\n",
              "    <table border=\"1\" class=\"dataframe\">\n",
              "  <thead>\n",
              "    <tr style=\"text-align: left;\">\n",
              "      <th>Epoch</th>\n",
              "      <th>Training Loss</th>\n",
              "      <th>Validation Loss</th>\n",
              "      <th>Bleu</th>\n",
              "      <th>Gen Len</th>\n",
              "    </tr>\n",
              "  </thead>\n",
              "  <tbody>\n",
              "    <tr>\n",
              "      <td>1</td>\n",
              "      <td>0.182500</td>\n",
              "      <td>0.170582</td>\n",
              "      <td>26.179800</td>\n",
              "      <td>30.513300</td>\n",
              "    </tr>\n",
              "    <tr>\n",
              "      <td>2</td>\n",
              "      <td>0.168400</td>\n",
              "      <td>0.169392</td>\n",
              "      <td>26.355900</td>\n",
              "      <td>30.438100</td>\n",
              "    </tr>\n",
              "    <tr>\n",
              "      <td>3</td>\n",
              "      <td>0.159500</td>\n",
              "      <td>0.169006</td>\n",
              "      <td>26.386700</td>\n",
              "      <td>30.488000</td>\n",
              "    </tr>\n",
              "    <tr>\n",
              "      <td>4</td>\n",
              "      <td>0.154600</td>\n",
              "      <td>0.169057</td>\n",
              "      <td>26.395500</td>\n",
              "      <td>30.404600</td>\n",
              "    </tr>\n",
              "    <tr>\n",
              "      <td>5</td>\n",
              "      <td>0.149000</td>\n",
              "      <td>0.169099</td>\n",
              "      <td>26.433300</td>\n",
              "      <td>30.399300</td>\n",
              "    </tr>\n",
              "  </tbody>\n",
              "</table><p>"
            ],
            "text/plain": [
              "<IPython.core.display.HTML object>"
            ]
          },
          "metadata": {
            "tags": []
          }
        },
        {
          "output_type": "stream",
          "text": [
            "Saving model checkpoint to test-translation/checkpoint-500\n",
            "Configuration saved in test-translation/checkpoint-500/config.json\n",
            "Model weights saved in test-translation/checkpoint-500/pytorch_model.bin\n",
            "tokenizer config file saved in test-translation/checkpoint-500/tokenizer_config.json\n",
            "Special tokens file saved in test-translation/checkpoint-500/special_tokens_map.json\n",
            "Saving model checkpoint to test-translation/checkpoint-1000\n",
            "Configuration saved in test-translation/checkpoint-1000/config.json\n",
            "Model weights saved in test-translation/checkpoint-1000/pytorch_model.bin\n",
            "tokenizer config file saved in test-translation/checkpoint-1000/tokenizer_config.json\n",
            "Special tokens file saved in test-translation/checkpoint-1000/special_tokens_map.json\n",
            "Saving model checkpoint to test-translation/checkpoint-1500\n",
            "Configuration saved in test-translation/checkpoint-1500/config.json\n",
            "Model weights saved in test-translation/checkpoint-1500/pytorch_model.bin\n",
            "tokenizer config file saved in test-translation/checkpoint-1500/tokenizer_config.json\n",
            "Special tokens file saved in test-translation/checkpoint-1500/special_tokens_map.json\n",
            "Saving model checkpoint to test-translation/checkpoint-2000\n",
            "Configuration saved in test-translation/checkpoint-2000/config.json\n",
            "Model weights saved in test-translation/checkpoint-2000/pytorch_model.bin\n",
            "tokenizer config file saved in test-translation/checkpoint-2000/tokenizer_config.json\n",
            "Special tokens file saved in test-translation/checkpoint-2000/special_tokens_map.json\n",
            "Deleting older checkpoint [test-translation/checkpoint-500] due to args.save_total_limit\n",
            "Saving model checkpoint to test-translation/checkpoint-2500\n",
            "Configuration saved in test-translation/checkpoint-2500/config.json\n",
            "Model weights saved in test-translation/checkpoint-2500/pytorch_model.bin\n",
            "tokenizer config file saved in test-translation/checkpoint-2500/tokenizer_config.json\n",
            "Special tokens file saved in test-translation/checkpoint-2500/special_tokens_map.json\n",
            "Deleting older checkpoint [test-translation/checkpoint-1000] due to args.save_total_limit\n",
            "Saving model checkpoint to test-translation/checkpoint-3000\n",
            "Configuration saved in test-translation/checkpoint-3000/config.json\n",
            "Model weights saved in test-translation/checkpoint-3000/pytorch_model.bin\n",
            "tokenizer config file saved in test-translation/checkpoint-3000/tokenizer_config.json\n",
            "Special tokens file saved in test-translation/checkpoint-3000/special_tokens_map.json\n",
            "Deleting older checkpoint [test-translation/checkpoint-1500] due to args.save_total_limit\n",
            "Saving model checkpoint to test-translation/checkpoint-3500\n",
            "Configuration saved in test-translation/checkpoint-3500/config.json\n",
            "Model weights saved in test-translation/checkpoint-3500/pytorch_model.bin\n",
            "tokenizer config file saved in test-translation/checkpoint-3500/tokenizer_config.json\n",
            "Special tokens file saved in test-translation/checkpoint-3500/special_tokens_map.json\n",
            "Deleting older checkpoint [test-translation/checkpoint-2000] due to args.save_total_limit\n",
            "Saving model checkpoint to test-translation/checkpoint-4000\n",
            "Configuration saved in test-translation/checkpoint-4000/config.json\n",
            "Model weights saved in test-translation/checkpoint-4000/pytorch_model.bin\n",
            "tokenizer config file saved in test-translation/checkpoint-4000/tokenizer_config.json\n",
            "Special tokens file saved in test-translation/checkpoint-4000/special_tokens_map.json\n",
            "Deleting older checkpoint [test-translation/checkpoint-2500] due to args.save_total_limit\n",
            "Saving model checkpoint to test-translation/checkpoint-4500\n",
            "Configuration saved in test-translation/checkpoint-4500/config.json\n",
            "Model weights saved in test-translation/checkpoint-4500/pytorch_model.bin\n",
            "tokenizer config file saved in test-translation/checkpoint-4500/tokenizer_config.json\n",
            "Special tokens file saved in test-translation/checkpoint-4500/special_tokens_map.json\n",
            "Deleting older checkpoint [test-translation/checkpoint-3000] due to args.save_total_limit\n",
            "Saving model checkpoint to test-translation/checkpoint-5000\n",
            "Configuration saved in test-translation/checkpoint-5000/config.json\n",
            "Model weights saved in test-translation/checkpoint-5000/pytorch_model.bin\n",
            "tokenizer config file saved in test-translation/checkpoint-5000/tokenizer_config.json\n",
            "Special tokens file saved in test-translation/checkpoint-5000/special_tokens_map.json\n",
            "Deleting older checkpoint [test-translation/checkpoint-3500] due to args.save_total_limit\n",
            "***** Running Evaluation *****\n",
            "  Num examples = 14913\n",
            "  Batch size = 16\n",
            "/usr/local/lib/python3.7/dist-packages/torch/_tensor.py:575: UserWarning: floor_divide is deprecated, and will be removed in a future version of pytorch. It currently rounds toward 0 (like the 'trunc' function NOT 'floor'). This results in incorrect rounding for negative values.\n",
            "To keep the current behavior, use torch.div(a, b, rounding_mode='trunc'), or for actual floor division, use torch.div(a, b, rounding_mode='floor'). (Triggered internally at  /pytorch/aten/src/ATen/native/BinaryOps.cpp:467.)\n",
            "  return torch.floor_divide(self, other)\n",
            "Saving model checkpoint to test-translation/checkpoint-5500\n",
            "Configuration saved in test-translation/checkpoint-5500/config.json\n",
            "Model weights saved in test-translation/checkpoint-5500/pytorch_model.bin\n",
            "tokenizer config file saved in test-translation/checkpoint-5500/tokenizer_config.json\n",
            "Special tokens file saved in test-translation/checkpoint-5500/special_tokens_map.json\n",
            "Deleting older checkpoint [test-translation/checkpoint-4000] due to args.save_total_limit\n",
            "Saving model checkpoint to test-translation/checkpoint-6000\n",
            "Configuration saved in test-translation/checkpoint-6000/config.json\n",
            "Model weights saved in test-translation/checkpoint-6000/pytorch_model.bin\n",
            "tokenizer config file saved in test-translation/checkpoint-6000/tokenizer_config.json\n",
            "Special tokens file saved in test-translation/checkpoint-6000/special_tokens_map.json\n",
            "Deleting older checkpoint [test-translation/checkpoint-4500] due to args.save_total_limit\n",
            "Saving model checkpoint to test-translation/checkpoint-6500\n",
            "Configuration saved in test-translation/checkpoint-6500/config.json\n",
            "Model weights saved in test-translation/checkpoint-6500/pytorch_model.bin\n",
            "tokenizer config file saved in test-translation/checkpoint-6500/tokenizer_config.json\n",
            "Special tokens file saved in test-translation/checkpoint-6500/special_tokens_map.json\n",
            "Deleting older checkpoint [test-translation/checkpoint-5000] due to args.save_total_limit\n",
            "Saving model checkpoint to test-translation/checkpoint-7000\n",
            "Configuration saved in test-translation/checkpoint-7000/config.json\n",
            "Model weights saved in test-translation/checkpoint-7000/pytorch_model.bin\n",
            "tokenizer config file saved in test-translation/checkpoint-7000/tokenizer_config.json\n",
            "Special tokens file saved in test-translation/checkpoint-7000/special_tokens_map.json\n",
            "Deleting older checkpoint [test-translation/checkpoint-5500] due to args.save_total_limit\n",
            "Saving model checkpoint to test-translation/checkpoint-7500\n",
            "Configuration saved in test-translation/checkpoint-7500/config.json\n",
            "Model weights saved in test-translation/checkpoint-7500/pytorch_model.bin\n",
            "tokenizer config file saved in test-translation/checkpoint-7500/tokenizer_config.json\n",
            "Special tokens file saved in test-translation/checkpoint-7500/special_tokens_map.json\n",
            "Deleting older checkpoint [test-translation/checkpoint-6000] due to args.save_total_limit\n",
            "Saving model checkpoint to test-translation/checkpoint-8000\n",
            "Configuration saved in test-translation/checkpoint-8000/config.json\n",
            "Model weights saved in test-translation/checkpoint-8000/pytorch_model.bin\n",
            "tokenizer config file saved in test-translation/checkpoint-8000/tokenizer_config.json\n",
            "Special tokens file saved in test-translation/checkpoint-8000/special_tokens_map.json\n",
            "Deleting older checkpoint [test-translation/checkpoint-6500] due to args.save_total_limit\n",
            "Saving model checkpoint to test-translation/checkpoint-8500\n",
            "Configuration saved in test-translation/checkpoint-8500/config.json\n",
            "Model weights saved in test-translation/checkpoint-8500/pytorch_model.bin\n",
            "tokenizer config file saved in test-translation/checkpoint-8500/tokenizer_config.json\n",
            "Special tokens file saved in test-translation/checkpoint-8500/special_tokens_map.json\n",
            "Deleting older checkpoint [test-translation/checkpoint-7000] due to args.save_total_limit\n",
            "Saving model checkpoint to test-translation/checkpoint-9000\n",
            "Configuration saved in test-translation/checkpoint-9000/config.json\n",
            "Model weights saved in test-translation/checkpoint-9000/pytorch_model.bin\n",
            "tokenizer config file saved in test-translation/checkpoint-9000/tokenizer_config.json\n",
            "Special tokens file saved in test-translation/checkpoint-9000/special_tokens_map.json\n",
            "Deleting older checkpoint [test-translation/checkpoint-7500] due to args.save_total_limit\n",
            "Saving model checkpoint to test-translation/checkpoint-9500\n",
            "Configuration saved in test-translation/checkpoint-9500/config.json\n",
            "Model weights saved in test-translation/checkpoint-9500/pytorch_model.bin\n",
            "tokenizer config file saved in test-translation/checkpoint-9500/tokenizer_config.json\n",
            "Special tokens file saved in test-translation/checkpoint-9500/special_tokens_map.json\n",
            "Deleting older checkpoint [test-translation/checkpoint-8000] due to args.save_total_limit\n",
            "Saving model checkpoint to test-translation/checkpoint-10000\n",
            "Configuration saved in test-translation/checkpoint-10000/config.json\n",
            "Model weights saved in test-translation/checkpoint-10000/pytorch_model.bin\n",
            "tokenizer config file saved in test-translation/checkpoint-10000/tokenizer_config.json\n",
            "Special tokens file saved in test-translation/checkpoint-10000/special_tokens_map.json\n",
            "Deleting older checkpoint [test-translation/checkpoint-8500] due to args.save_total_limit\n",
            "Saving model checkpoint to test-translation/checkpoint-10500\n",
            "Configuration saved in test-translation/checkpoint-10500/config.json\n",
            "Model weights saved in test-translation/checkpoint-10500/pytorch_model.bin\n",
            "tokenizer config file saved in test-translation/checkpoint-10500/tokenizer_config.json\n",
            "Special tokens file saved in test-translation/checkpoint-10500/special_tokens_map.json\n",
            "Deleting older checkpoint [test-translation/checkpoint-9000] due to args.save_total_limit\n",
            "***** Running Evaluation *****\n",
            "  Num examples = 14913\n",
            "  Batch size = 16\n",
            "Saving model checkpoint to test-translation/checkpoint-11000\n",
            "Configuration saved in test-translation/checkpoint-11000/config.json\n",
            "Model weights saved in test-translation/checkpoint-11000/pytorch_model.bin\n",
            "tokenizer config file saved in test-translation/checkpoint-11000/tokenizer_config.json\n",
            "Special tokens file saved in test-translation/checkpoint-11000/special_tokens_map.json\n",
            "Deleting older checkpoint [test-translation/checkpoint-9500] due to args.save_total_limit\n",
            "Saving model checkpoint to test-translation/checkpoint-11500\n",
            "Configuration saved in test-translation/checkpoint-11500/config.json\n",
            "Model weights saved in test-translation/checkpoint-11500/pytorch_model.bin\n",
            "tokenizer config file saved in test-translation/checkpoint-11500/tokenizer_config.json\n",
            "Special tokens file saved in test-translation/checkpoint-11500/special_tokens_map.json\n",
            "Deleting older checkpoint [test-translation/checkpoint-10000] due to args.save_total_limit\n",
            "Saving model checkpoint to test-translation/checkpoint-12000\n",
            "Configuration saved in test-translation/checkpoint-12000/config.json\n",
            "Model weights saved in test-translation/checkpoint-12000/pytorch_model.bin\n",
            "tokenizer config file saved in test-translation/checkpoint-12000/tokenizer_config.json\n",
            "Special tokens file saved in test-translation/checkpoint-12000/special_tokens_map.json\n",
            "Deleting older checkpoint [test-translation/checkpoint-10500] due to args.save_total_limit\n",
            "Saving model checkpoint to test-translation/checkpoint-12500\n",
            "Configuration saved in test-translation/checkpoint-12500/config.json\n",
            "Model weights saved in test-translation/checkpoint-12500/pytorch_model.bin\n",
            "tokenizer config file saved in test-translation/checkpoint-12500/tokenizer_config.json\n",
            "Special tokens file saved in test-translation/checkpoint-12500/special_tokens_map.json\n",
            "Deleting older checkpoint [test-translation/checkpoint-11000] due to args.save_total_limit\n",
            "Saving model checkpoint to test-translation/checkpoint-13000\n",
            "Configuration saved in test-translation/checkpoint-13000/config.json\n",
            "Model weights saved in test-translation/checkpoint-13000/pytorch_model.bin\n",
            "tokenizer config file saved in test-translation/checkpoint-13000/tokenizer_config.json\n",
            "Special tokens file saved in test-translation/checkpoint-13000/special_tokens_map.json\n",
            "Deleting older checkpoint [test-translation/checkpoint-11500] due to args.save_total_limit\n",
            "Saving model checkpoint to test-translation/checkpoint-13500\n",
            "Configuration saved in test-translation/checkpoint-13500/config.json\n",
            "Model weights saved in test-translation/checkpoint-13500/pytorch_model.bin\n",
            "tokenizer config file saved in test-translation/checkpoint-13500/tokenizer_config.json\n",
            "Special tokens file saved in test-translation/checkpoint-13500/special_tokens_map.json\n",
            "Deleting older checkpoint [test-translation/checkpoint-12000] due to args.save_total_limit\n",
            "Saving model checkpoint to test-translation/checkpoint-14000\n",
            "Configuration saved in test-translation/checkpoint-14000/config.json\n",
            "Model weights saved in test-translation/checkpoint-14000/pytorch_model.bin\n",
            "tokenizer config file saved in test-translation/checkpoint-14000/tokenizer_config.json\n",
            "Special tokens file saved in test-translation/checkpoint-14000/special_tokens_map.json\n",
            "Deleting older checkpoint [test-translation/checkpoint-12500] due to args.save_total_limit\n",
            "Saving model checkpoint to test-translation/checkpoint-14500\n",
            "Configuration saved in test-translation/checkpoint-14500/config.json\n",
            "Model weights saved in test-translation/checkpoint-14500/pytorch_model.bin\n",
            "tokenizer config file saved in test-translation/checkpoint-14500/tokenizer_config.json\n",
            "Special tokens file saved in test-translation/checkpoint-14500/special_tokens_map.json\n",
            "Deleting older checkpoint [test-translation/checkpoint-13000] due to args.save_total_limit\n",
            "Saving model checkpoint to test-translation/checkpoint-15000\n",
            "Configuration saved in test-translation/checkpoint-15000/config.json\n",
            "Model weights saved in test-translation/checkpoint-15000/pytorch_model.bin\n",
            "tokenizer config file saved in test-translation/checkpoint-15000/tokenizer_config.json\n",
            "Special tokens file saved in test-translation/checkpoint-15000/special_tokens_map.json\n",
            "Deleting older checkpoint [test-translation/checkpoint-13500] due to args.save_total_limit\n",
            "Saving model checkpoint to test-translation/checkpoint-15500\n",
            "Configuration saved in test-translation/checkpoint-15500/config.json\n",
            "Model weights saved in test-translation/checkpoint-15500/pytorch_model.bin\n",
            "tokenizer config file saved in test-translation/checkpoint-15500/tokenizer_config.json\n",
            "Special tokens file saved in test-translation/checkpoint-15500/special_tokens_map.json\n",
            "Deleting older checkpoint [test-translation/checkpoint-14000] due to args.save_total_limit\n",
            "***** Running Evaluation *****\n",
            "  Num examples = 14913\n",
            "  Batch size = 16\n",
            "Saving model checkpoint to test-translation/checkpoint-16000\n",
            "Configuration saved in test-translation/checkpoint-16000/config.json\n",
            "Model weights saved in test-translation/checkpoint-16000/pytorch_model.bin\n",
            "tokenizer config file saved in test-translation/checkpoint-16000/tokenizer_config.json\n",
            "Special tokens file saved in test-translation/checkpoint-16000/special_tokens_map.json\n",
            "Deleting older checkpoint [test-translation/checkpoint-14500] due to args.save_total_limit\n",
            "Saving model checkpoint to test-translation/checkpoint-16500\n",
            "Configuration saved in test-translation/checkpoint-16500/config.json\n",
            "Model weights saved in test-translation/checkpoint-16500/pytorch_model.bin\n",
            "tokenizer config file saved in test-translation/checkpoint-16500/tokenizer_config.json\n",
            "Special tokens file saved in test-translation/checkpoint-16500/special_tokens_map.json\n",
            "Deleting older checkpoint [test-translation/checkpoint-15000] due to args.save_total_limit\n",
            "Saving model checkpoint to test-translation/checkpoint-17000\n",
            "Configuration saved in test-translation/checkpoint-17000/config.json\n",
            "Model weights saved in test-translation/checkpoint-17000/pytorch_model.bin\n",
            "tokenizer config file saved in test-translation/checkpoint-17000/tokenizer_config.json\n",
            "Special tokens file saved in test-translation/checkpoint-17000/special_tokens_map.json\n",
            "Deleting older checkpoint [test-translation/checkpoint-15500] due to args.save_total_limit\n",
            "Saving model checkpoint to test-translation/checkpoint-17500\n",
            "Configuration saved in test-translation/checkpoint-17500/config.json\n",
            "Model weights saved in test-translation/checkpoint-17500/pytorch_model.bin\n",
            "tokenizer config file saved in test-translation/checkpoint-17500/tokenizer_config.json\n",
            "Special tokens file saved in test-translation/checkpoint-17500/special_tokens_map.json\n",
            "Deleting older checkpoint [test-translation/checkpoint-16000] due to args.save_total_limit\n",
            "Saving model checkpoint to test-translation/checkpoint-18000\n",
            "Configuration saved in test-translation/checkpoint-18000/config.json\n",
            "Model weights saved in test-translation/checkpoint-18000/pytorch_model.bin\n",
            "tokenizer config file saved in test-translation/checkpoint-18000/tokenizer_config.json\n",
            "Special tokens file saved in test-translation/checkpoint-18000/special_tokens_map.json\n",
            "Deleting older checkpoint [test-translation/checkpoint-16500] due to args.save_total_limit\n",
            "/usr/local/lib/python3.7/dist-packages/transformers/trainer.py:1299: FutureWarning: Non-finite norm encountered in torch.nn.utils.clip_grad_norm_; continuing anyway. Note that the default behavior will change in a future release to error out if a non-finite total norm is encountered. At that point, setting error_if_nonfinite=false will be required to retain the old behavior.\n",
            "  args.max_grad_norm,\n",
            "Saving model checkpoint to test-translation/checkpoint-18500\n",
            "Configuration saved in test-translation/checkpoint-18500/config.json\n",
            "Model weights saved in test-translation/checkpoint-18500/pytorch_model.bin\n",
            "tokenizer config file saved in test-translation/checkpoint-18500/tokenizer_config.json\n",
            "Special tokens file saved in test-translation/checkpoint-18500/special_tokens_map.json\n",
            "Deleting older checkpoint [test-translation/checkpoint-17000] due to args.save_total_limit\n",
            "Saving model checkpoint to test-translation/checkpoint-19000\n",
            "Configuration saved in test-translation/checkpoint-19000/config.json\n",
            "Model weights saved in test-translation/checkpoint-19000/pytorch_model.bin\n",
            "tokenizer config file saved in test-translation/checkpoint-19000/tokenizer_config.json\n",
            "Special tokens file saved in test-translation/checkpoint-19000/special_tokens_map.json\n",
            "Deleting older checkpoint [test-translation/checkpoint-17500] due to args.save_total_limit\n",
            "Saving model checkpoint to test-translation/checkpoint-19500\n",
            "Configuration saved in test-translation/checkpoint-19500/config.json\n",
            "Model weights saved in test-translation/checkpoint-19500/pytorch_model.bin\n",
            "tokenizer config file saved in test-translation/checkpoint-19500/tokenizer_config.json\n",
            "Special tokens file saved in test-translation/checkpoint-19500/special_tokens_map.json\n",
            "Deleting older checkpoint [test-translation/checkpoint-18000] due to args.save_total_limit\n",
            "Saving model checkpoint to test-translation/checkpoint-20000\n",
            "Configuration saved in test-translation/checkpoint-20000/config.json\n",
            "Model weights saved in test-translation/checkpoint-20000/pytorch_model.bin\n",
            "tokenizer config file saved in test-translation/checkpoint-20000/tokenizer_config.json\n",
            "Special tokens file saved in test-translation/checkpoint-20000/special_tokens_map.json\n",
            "Deleting older checkpoint [test-translation/checkpoint-18500] due to args.save_total_limit\n",
            "/usr/local/lib/python3.7/dist-packages/transformers/trainer.py:1299: FutureWarning: Non-finite norm encountered in torch.nn.utils.clip_grad_norm_; continuing anyway. Note that the default behavior will change in a future release to error out if a non-finite total norm is encountered. At that point, setting error_if_nonfinite=false will be required to retain the old behavior.\n",
            "  args.max_grad_norm,\n",
            "Saving model checkpoint to test-translation/checkpoint-20500\n",
            "Configuration saved in test-translation/checkpoint-20500/config.json\n",
            "Model weights saved in test-translation/checkpoint-20500/pytorch_model.bin\n",
            "tokenizer config file saved in test-translation/checkpoint-20500/tokenizer_config.json\n",
            "Special tokens file saved in test-translation/checkpoint-20500/special_tokens_map.json\n",
            "Deleting older checkpoint [test-translation/checkpoint-19000] due to args.save_total_limit\n",
            "Saving model checkpoint to test-translation/checkpoint-21000\n",
            "Configuration saved in test-translation/checkpoint-21000/config.json\n",
            "Model weights saved in test-translation/checkpoint-21000/pytorch_model.bin\n",
            "tokenizer config file saved in test-translation/checkpoint-21000/tokenizer_config.json\n",
            "Special tokens file saved in test-translation/checkpoint-21000/special_tokens_map.json\n",
            "Deleting older checkpoint [test-translation/checkpoint-19500] due to args.save_total_limit\n",
            "***** Running Evaluation *****\n",
            "  Num examples = 14913\n",
            "  Batch size = 16\n",
            "Saving model checkpoint to test-translation/checkpoint-21500\n",
            "Configuration saved in test-translation/checkpoint-21500/config.json\n",
            "Model weights saved in test-translation/checkpoint-21500/pytorch_model.bin\n",
            "tokenizer config file saved in test-translation/checkpoint-21500/tokenizer_config.json\n",
            "Special tokens file saved in test-translation/checkpoint-21500/special_tokens_map.json\n",
            "Deleting older checkpoint [test-translation/checkpoint-20000] due to args.save_total_limit\n",
            "Saving model checkpoint to test-translation/checkpoint-22000\n",
            "Configuration saved in test-translation/checkpoint-22000/config.json\n",
            "Model weights saved in test-translation/checkpoint-22000/pytorch_model.bin\n",
            "tokenizer config file saved in test-translation/checkpoint-22000/tokenizer_config.json\n",
            "Special tokens file saved in test-translation/checkpoint-22000/special_tokens_map.json\n",
            "Deleting older checkpoint [test-translation/checkpoint-20500] due to args.save_total_limit\n",
            "/usr/local/lib/python3.7/dist-packages/transformers/trainer.py:1299: FutureWarning: Non-finite norm encountered in torch.nn.utils.clip_grad_norm_; continuing anyway. Note that the default behavior will change in a future release to error out if a non-finite total norm is encountered. At that point, setting error_if_nonfinite=false will be required to retain the old behavior.\n",
            "  args.max_grad_norm,\n",
            "Saving model checkpoint to test-translation/checkpoint-22500\n",
            "Configuration saved in test-translation/checkpoint-22500/config.json\n",
            "Model weights saved in test-translation/checkpoint-22500/pytorch_model.bin\n",
            "tokenizer config file saved in test-translation/checkpoint-22500/tokenizer_config.json\n",
            "Special tokens file saved in test-translation/checkpoint-22500/special_tokens_map.json\n",
            "Deleting older checkpoint [test-translation/checkpoint-21000] due to args.save_total_limit\n",
            "Saving model checkpoint to test-translation/checkpoint-23000\n",
            "Configuration saved in test-translation/checkpoint-23000/config.json\n",
            "Model weights saved in test-translation/checkpoint-23000/pytorch_model.bin\n",
            "tokenizer config file saved in test-translation/checkpoint-23000/tokenizer_config.json\n",
            "Special tokens file saved in test-translation/checkpoint-23000/special_tokens_map.json\n",
            "Deleting older checkpoint [test-translation/checkpoint-21500] due to args.save_total_limit\n",
            "Saving model checkpoint to test-translation/checkpoint-23500\n",
            "Configuration saved in test-translation/checkpoint-23500/config.json\n",
            "Model weights saved in test-translation/checkpoint-23500/pytorch_model.bin\n",
            "tokenizer config file saved in test-translation/checkpoint-23500/tokenizer_config.json\n",
            "Special tokens file saved in test-translation/checkpoint-23500/special_tokens_map.json\n",
            "Deleting older checkpoint [test-translation/checkpoint-22000] due to args.save_total_limit\n",
            "Saving model checkpoint to test-translation/checkpoint-24000\n",
            "Configuration saved in test-translation/checkpoint-24000/config.json\n",
            "Model weights saved in test-translation/checkpoint-24000/pytorch_model.bin\n",
            "tokenizer config file saved in test-translation/checkpoint-24000/tokenizer_config.json\n",
            "Special tokens file saved in test-translation/checkpoint-24000/special_tokens_map.json\n",
            "Deleting older checkpoint [test-translation/checkpoint-22500] due to args.save_total_limit\n",
            "/usr/local/lib/python3.7/dist-packages/transformers/trainer.py:1299: FutureWarning: Non-finite norm encountered in torch.nn.utils.clip_grad_norm_; continuing anyway. Note that the default behavior will change in a future release to error out if a non-finite total norm is encountered. At that point, setting error_if_nonfinite=false will be required to retain the old behavior.\n",
            "  args.max_grad_norm,\n",
            "Saving model checkpoint to test-translation/checkpoint-24500\n",
            "Configuration saved in test-translation/checkpoint-24500/config.json\n",
            "Model weights saved in test-translation/checkpoint-24500/pytorch_model.bin\n",
            "tokenizer config file saved in test-translation/checkpoint-24500/tokenizer_config.json\n",
            "Special tokens file saved in test-translation/checkpoint-24500/special_tokens_map.json\n",
            "Deleting older checkpoint [test-translation/checkpoint-23000] due to args.save_total_limit\n",
            "Saving model checkpoint to test-translation/checkpoint-25000\n",
            "Configuration saved in test-translation/checkpoint-25000/config.json\n",
            "Model weights saved in test-translation/checkpoint-25000/pytorch_model.bin\n",
            "tokenizer config file saved in test-translation/checkpoint-25000/tokenizer_config.json\n",
            "Special tokens file saved in test-translation/checkpoint-25000/special_tokens_map.json\n",
            "Deleting older checkpoint [test-translation/checkpoint-23500] due to args.save_total_limit\n",
            "Saving model checkpoint to test-translation/checkpoint-25500\n",
            "Configuration saved in test-translation/checkpoint-25500/config.json\n",
            "Model weights saved in test-translation/checkpoint-25500/pytorch_model.bin\n",
            "tokenizer config file saved in test-translation/checkpoint-25500/tokenizer_config.json\n",
            "Special tokens file saved in test-translation/checkpoint-25500/special_tokens_map.json\n",
            "Deleting older checkpoint [test-translation/checkpoint-24000] due to args.save_total_limit\n",
            "Saving model checkpoint to test-translation/checkpoint-26000\n",
            "Configuration saved in test-translation/checkpoint-26000/config.json\n",
            "Model weights saved in test-translation/checkpoint-26000/pytorch_model.bin\n",
            "tokenizer config file saved in test-translation/checkpoint-26000/tokenizer_config.json\n",
            "Special tokens file saved in test-translation/checkpoint-26000/special_tokens_map.json\n",
            "Deleting older checkpoint [test-translation/checkpoint-24500] due to args.save_total_limit\n",
            "/usr/local/lib/python3.7/dist-packages/transformers/trainer.py:1299: FutureWarning: Non-finite norm encountered in torch.nn.utils.clip_grad_norm_; continuing anyway. Note that the default behavior will change in a future release to error out if a non-finite total norm is encountered. At that point, setting error_if_nonfinite=false will be required to retain the old behavior.\n",
            "  args.max_grad_norm,\n",
            "***** Running Evaluation *****\n",
            "  Num examples = 14913\n",
            "  Batch size = 16\n",
            "\n",
            "\n",
            "Training completed. Do not forget to share your model on huggingface.co/models =)\n",
            "\n",
            "\n"
          ],
          "name": "stderr"
        },
        {
          "output_type": "execute_result",
          "data": {
            "text/plain": [
              "TrainOutput(global_step=26410, training_loss=0.16361458318696606, metrics={'train_runtime': 19124.8101, 'train_samples_per_second': 22.092, 'train_steps_per_second': 1.381, 'total_flos': 9.658115685875712e+16, 'train_loss': 0.16361458318696606, 'epoch': 5.0})"
            ]
          },
          "metadata": {
            "tags": []
          },
          "execution_count": 31
        }
      ]
    },
    {
      "cell_type": "code",
      "metadata": {
        "id": "OZ0ebgfWYYgg"
      },
      "source": [
        "def predict_output(english_text,german_text):\n",
        "  token = tokenizer(english_text,\n",
        "                    max_length=256,\n",
        "                    padding = 'max_length',\n",
        "                    truncation = True,\n",
        "                    return_tensors = 'pt')\n",
        "  with tokenizer.as_target_tokenizer():\n",
        "    target_token = tokenizer(german_text,\n",
        "                             max_length=256,\n",
        "                             truncation = True,\n",
        "                             padding = 'max_length',\n",
        "                             return_tensors = 'pt')\n",
        "  token.to('cuda')\n",
        "  target_token.to('cuda')\n",
        "\n",
        "  output = model(**token, \n",
        "                 decoder_input_ids = target_token['input_ids'],\n",
        "                 decoder_attention_mask = target_token['attention_mask'])\n",
        "  pred = torch.argmax(output.logits,dim = 2)\n",
        "  for i in pred:\n",
        "    x = tokenizer.decode(i,skip_special_tokens = True)\n",
        "  return x"
      ],
      "execution_count": 66,
      "outputs": []
    },
    {
      "cell_type": "code",
      "metadata": {
        "colab": {
          "base_uri": "https://localhost:8080/",
          "height": 35
        },
        "id": "iOlXiBcoZLpA",
        "outputId": "0505bc6c-9513-4841-84fd-55394acb6d56"
      },
      "source": [
        "predict_output('The objective is of course to create, first and foremost, a clear general framework which will allow the law in this area to be simplified.',\n",
        "               'Ziel ist es natürlich in erster Linie, einen klaren allgemeinen Rahmen zu schaffen, der eine Vereinfachung des Rechts in diesem Bereich ermöglicht.')"
      ],
      "execution_count": 69,
      "outputs": [
        {
          "output_type": "execute_result",
          "data": {
            "application/vnd.google.colaboratory.intrinsic+json": {
              "type": "string"
            },
            "text/plain": [
              "'Ziel ein,,, ein ein ein klaren allgemeinen Rahmen, schaffen, der die Reihe der Rechts in der Bereich ermöglicht.'"
            ]
          },
          "metadata": {
            "tags": []
          },
          "execution_count": 69
        }
      ]
    }
  ]
}